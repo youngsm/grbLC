{
 "cells": [
  {
   "cell_type": "code",
   "execution_count": 1,
   "id": "be5159c2",
   "metadata": {
    "execution": {
     "iopub.execute_input": "2022-07-13T19:11:19.441170Z",
     "iopub.status.busy": "2022-07-13T19:11:19.440915Z",
     "iopub.status.idle": "2022-07-13T19:11:20.591490Z",
     "shell.execute_reply": "2022-07-13T19:11:20.591159Z"
    }
   },
   "outputs": [
    {
     "data": {
      "image/png": "[encoded data removed]",
      "text/plain": [
       "<Figure size 432x432 with 1 Axes>"
      ]
     },
     "metadata": {
      "filenames": {
       "image/png": "/Users/youngsam/Documents/GitHub/grbLC/docs_src/_build/jupyter_execute/grblc.fitting_0_0.png"
      },
      "needs_background": "light"
     },
     "output_type": "display_data"
    }
   ],
   "source": [
    "import numpy as np\n",
    "from grblc.fitting import Model, Lightcurve\n",
    "\n",
    "model = Model.W07(vary_t=False)\n",
    "xdata = np.linspace(0, 10, 15)\n",
    "yerr = np.random.normal(0, 0.5, len(xdata))\n",
    "ydata = model(xdata, 5, -12, 1.5, 0) + yerr\n",
    "lc = Lightcurve(xdata=xdata, ydata=ydata, yerr=yerr, model=model)\n",
    "lc.show_data()"
   ]
  },
  {
   "cell_type": "code",
   "execution_count": 2,
   "id": "79e55856",
   "metadata": {
    "execution": {
     "iopub.execute_input": "2022-07-13T19:11:20.593263Z",
     "iopub.status.busy": "2022-07-13T19:11:20.593098Z",
     "iopub.status.idle": "2022-07-13T19:11:42.204580Z",
     "shell.execute_reply": "2022-07-13T19:11:42.204210Z"
    }
   },
   "outputs": [
    {
     "name": "stderr",
     "output_type": "stream",
     "text": [
      "\r",
      "  0%|                                                                                                                      | 0/5000 [00:00<?, ?it/s]"
     ]
    },
    {
     "name": "stderr",
     "output_type": "stream",
     "text": [
      "\r",
      "  0%|▌                                                                                                           | 24/5000 [00:00<00:21, 236.64it/s]"
     ]
    },
    {
     "name": "stderr",
     "output_type": "stream",
     "text": [
      "\r",
      "  1%|█                                                                                                           | 48/5000 [00:00<00:21, 231.03it/s]"
     ]
    },
    {
     "name": "stderr",
     "output_type": "stream",
     "text": [
      "\r",
      "  1%|█▌                                                                                                          | 73/5000 [00:00<00:20, 236.96it/s]"
     ]
    },
    {
     "name": "stderr",
     "output_type": "stream",
     "text": [
      "\r",
      "  2%|██                                                                                                          | 98/5000 [00:00<00:20, 238.23it/s]"
     ]
    },
    {
     "name": "stderr",
     "output_type": "stream",
     "text": [
      "\r",
      "  2%|██▋                                                                                                        | 123/5000 [00:00<00:20, 240.40it/s]"
     ]
    },
    {
     "name": "stderr",
     "output_type": "stream",
     "text": [
      "\r",
      "  3%|███▏                                                                                                       | 148/5000 [00:00<00:20, 238.62it/s]"
     ]
    },
    {
     "name": "stderr",
     "output_type": "stream",
     "text": [
      "\r",
      "  3%|███▋                                                                                                       | 173/5000 [00:00<00:20, 240.62it/s]"
     ]
    },
    {
     "name": "stderr",
     "output_type": "stream",
     "text": [
      "\r",
      "  4%|████▏                                                                                                      | 198/5000 [00:00<00:19, 242.17it/s]"
     ]
    },
    {
     "name": "stderr",
     "output_type": "stream",
     "text": [
      "\r",
      "  4%|████▊                                                                                                      | 223/5000 [00:00<00:19, 241.42it/s]"
     ]
    },
    {
     "name": "stderr",
     "output_type": "stream",
     "text": [
      "\r",
      "  5%|█████▎                                                                                                     | 248/5000 [00:01<00:19, 242.79it/s]"
     ]
    },
    {
     "name": "stderr",
     "output_type": "stream",
     "text": [
      "\r",
      "  5%|█████▊                                                                                                     | 273/5000 [00:01<00:19, 240.44it/s]"
     ]
    },
    {
     "name": "stderr",
     "output_type": "stream",
     "text": [
      "\r",
      "  6%|██████▍                                                                                                    | 298/5000 [00:01<00:19, 239.65it/s]"
     ]
    },
    {
     "name": "stderr",
     "output_type": "stream",
     "text": [
      "\r",
      "  6%|██████▉                                                                                                    | 324/5000 [00:01<00:19, 243.07it/s]"
     ]
    },
    {
     "name": "stderr",
     "output_type": "stream",
     "text": [
      "\r",
      "  7%|███████▍                                                                                                   | 349/5000 [00:01<00:19, 242.77it/s]"
     ]
    },
    {
     "name": "stderr",
     "output_type": "stream",
     "text": [
      "\r",
      "  7%|████████                                                                                                   | 374/5000 [00:01<00:18, 244.66it/s]"
     ]
    },
    {
     "name": "stderr",
     "output_type": "stream",
     "text": [
      "\r",
      "  8%|████████▌                                                                                                  | 399/5000 [00:01<00:18, 245.40it/s]"
     ]
    },
    {
     "name": "stderr",
     "output_type": "stream",
     "text": [
      "\r",
      "  8%|█████████                                                                                                  | 425/5000 [00:01<00:18, 247.57it/s]"
     ]
    },
    {
     "name": "stderr",
     "output_type": "stream",
     "text": [
      "\r",
      "  9%|█████████▋                                                                                                 | 450/5000 [00:01<00:18, 247.34it/s]"
     ]
    },
    {
     "name": "stderr",
     "output_type": "stream",
     "text": [
      "\r",
      " 10%|██████████▏                                                                                                | 476/5000 [00:01<00:18, 248.26it/s]"
     ]
    },
    {
     "name": "stderr",
     "output_type": "stream",
     "text": [
      "\r",
      " 10%|██████████▋                                                                                                | 501/5000 [00:02<00:18, 245.76it/s]"
     ]
    },
    {
     "name": "stderr",
     "output_type": "stream",
     "text": [
      "\r",
      " 11%|███████████▎                                                                                               | 527/5000 [00:02<00:18, 247.46it/s]"
     ]
    },
    {
     "name": "stderr",
     "output_type": "stream",
     "text": [
      "\r",
      " 11%|███████████▊                                                                                               | 552/5000 [00:02<00:17, 247.87it/s]"
     ]
    },
    {
     "name": "stderr",
     "output_type": "stream",
     "text": [
      "\r",
      " 12%|████████████▎                                                                                              | 577/5000 [00:02<00:18, 245.36it/s]"
     ]
    },
    {
     "name": "stderr",
     "output_type": "stream",
     "text": [
      "\r",
      " 12%|████████████▉                                                                                              | 602/5000 [00:02<00:18, 243.65it/s]"
     ]
    },
    {
     "name": "stderr",
     "output_type": "stream",
     "text": [
      "\r",
      " 13%|█████████████▍                                                                                             | 628/5000 [00:02<00:17, 247.45it/s]"
     ]
    },
    {
     "name": "stderr",
     "output_type": "stream",
     "text": [
      "\r",
      " 13%|█████████████▉                                                                                             | 654/5000 [00:02<00:17, 248.49it/s]"
     ]
    },
    {
     "name": "stderr",
     "output_type": "stream",
     "text": [
      "\r",
      " 14%|██████████████▌                                                                                            | 680/5000 [00:02<00:17, 250.00it/s]"
     ]
    },
    {
     "name": "stderr",
     "output_type": "stream",
     "text": [
      "\r",
      " 14%|███████████████                                                                                            | 706/5000 [00:02<00:17, 252.00it/s]"
     ]
    },
    {
     "name": "stderr",
     "output_type": "stream",
     "text": [
      "\r",
      " 15%|███████████████▋                                                                                           | 732/5000 [00:02<00:16, 252.89it/s]"
     ]
    },
    {
     "name": "stderr",
     "output_type": "stream",
     "text": [
      "\r",
      " 15%|████████████████▏                                                                                          | 758/5000 [00:03<00:16, 250.06it/s]"
     ]
    },
    {
     "name": "stderr",
     "output_type": "stream",
     "text": [
      "\r",
      " 16%|████████████████▊                                                                                          | 784/5000 [00:03<00:16, 248.44it/s]"
     ]
    },
    {
     "name": "stderr",
     "output_type": "stream",
     "text": [
      "\r",
      " 16%|█████████████████▎                                                                                         | 809/5000 [00:03<00:17, 246.32it/s]"
     ]
    },
    {
     "name": "stderr",
     "output_type": "stream",
     "text": [
      "\r",
      " 17%|█████████████████▊                                                                                         | 835/5000 [00:03<00:16, 247.72it/s]"
     ]
    },
    {
     "name": "stderr",
     "output_type": "stream",
     "text": [
      "\r",
      " 17%|██████████████████▍                                                                                        | 861/5000 [00:03<00:16, 249.24it/s]"
     ]
    },
    {
     "name": "stderr",
     "output_type": "stream",
     "text": [
      "\r",
      " 18%|██████████████████▉                                                                                        | 887/5000 [00:03<00:16, 249.70it/s]"
     ]
    },
    {
     "name": "stderr",
     "output_type": "stream",
     "text": [
      "\r",
      " 18%|███████████████████▌                                                                                       | 912/5000 [00:03<00:16, 248.44it/s]"
     ]
    },
    {
     "name": "stderr",
     "output_type": "stream",
     "text": [
      "\r",
      " 19%|████████████████████                                                                                       | 937/5000 [00:03<00:16, 246.59it/s]"
     ]
    },
    {
     "name": "stderr",
     "output_type": "stream",
     "text": [
      "\r",
      " 19%|████████████████████▌                                                                                      | 963/5000 [00:03<00:16, 247.73it/s]"
     ]
    },
    {
     "name": "stderr",
     "output_type": "stream",
     "text": [
      "\r",
      " 20%|█████████████████████▏                                                                                     | 989/5000 [00:04<00:16, 249.40it/s]"
     ]
    },
    {
     "name": "stderr",
     "output_type": "stream",
     "text": [
      "\r",
      " 20%|█████████████████████▌                                                                                    | 1015/5000 [00:04<00:15, 249.74it/s]"
     ]
    },
    {
     "name": "stderr",
     "output_type": "stream",
     "text": [
      "\r",
      " 21%|██████████████████████                                                                                    | 1041/5000 [00:04<00:15, 250.57it/s]"
     ]
    },
    {
     "name": "stderr",
     "output_type": "stream",
     "text": [
      "\r",
      " 21%|██████████████████████▌                                                                                   | 1067/5000 [00:04<00:15, 248.55it/s]"
     ]
    },
    {
     "name": "stderr",
     "output_type": "stream",
     "text": [
      "\r",
      " 22%|███████████████████████▏                                                                                  | 1093/5000 [00:04<00:15, 249.49it/s]"
     ]
    },
    {
     "name": "stderr",
     "output_type": "stream",
     "text": [
      "\r",
      " 22%|███████████████████████▋                                                                                  | 1119/5000 [00:04<00:15, 250.89it/s]"
     ]
    },
    {
     "name": "stderr",
     "output_type": "stream",
     "text": [
      "\r",
      " 23%|████████████████████████▎                                                                                 | 1145/5000 [00:04<00:15, 248.34it/s]"
     ]
    },
    {
     "name": "stderr",
     "output_type": "stream",
     "text": [
      "\r",
      " 23%|████████████████████████▊                                                                                 | 1171/5000 [00:04<00:15, 249.34it/s]"
     ]
    },
    {
     "name": "stderr",
     "output_type": "stream",
     "text": [
      "\r",
      " 24%|█████████████████████████▍                                                                                | 1197/5000 [00:04<00:15, 250.67it/s]"
     ]
    },
    {
     "name": "stderr",
     "output_type": "stream",
     "text": [
      "\r",
      " 24%|█████████████████████████▉                                                                                | 1223/5000 [00:04<00:15, 251.44it/s]"
     ]
    },
    {
     "name": "stderr",
     "output_type": "stream",
     "text": [
      "\r",
      " 25%|██████████████████████████▍                                                                               | 1249/5000 [00:05<00:14, 250.98it/s]"
     ]
    },
    {
     "name": "stderr",
     "output_type": "stream",
     "text": [
      "\r",
      " 26%|███████████████████████████                                                                               | 1275/5000 [00:05<00:14, 249.79it/s]"
     ]
    },
    {
     "name": "stderr",
     "output_type": "stream",
     "text": [
      "\r",
      " 26%|███████████████████████████▌                                                                              | 1300/5000 [00:05<00:14, 248.82it/s]"
     ]
    },
    {
     "name": "stderr",
     "output_type": "stream",
     "text": [
      "\r",
      " 27%|████████████████████████████                                                                              | 1326/5000 [00:05<00:14, 250.87it/s]"
     ]
    },
    {
     "name": "stderr",
     "output_type": "stream",
     "text": [
      "\r",
      " 27%|████████████████████████████▋                                                                             | 1352/5000 [00:05<00:14, 251.76it/s]"
     ]
    },
    {
     "name": "stderr",
     "output_type": "stream",
     "text": [
      "\r",
      " 28%|█████████████████████████████▏                                                                            | 1378/5000 [00:05<00:14, 252.12it/s]"
     ]
    },
    {
     "name": "stderr",
     "output_type": "stream",
     "text": [
      "\r",
      " 28%|█████████████████████████████▊                                                                            | 1404/5000 [00:05<00:14, 252.48it/s]"
     ]
    },
    {
     "name": "stderr",
     "output_type": "stream",
     "text": [
      "\r",
      " 29%|██████████████████████████████▎                                                                           | 1430/5000 [00:05<00:14, 252.14it/s]"
     ]
    },
    {
     "name": "stderr",
     "output_type": "stream",
     "text": [
      "\r",
      " 29%|██████████████████████████████▊                                                                           | 1456/5000 [00:05<00:14, 248.92it/s]"
     ]
    },
    {
     "name": "stderr",
     "output_type": "stream",
     "text": [
      "\r",
      " 30%|███████████████████████████████▍                                                                          | 1482/5000 [00:05<00:14, 249.39it/s]"
     ]
    },
    {
     "name": "stderr",
     "output_type": "stream",
     "text": [
      "\r",
      " 30%|███████████████████████████████▉                                                                          | 1508/5000 [00:06<00:13, 250.49it/s]"
     ]
    },
    {
     "name": "stderr",
     "output_type": "stream",
     "text": [
      "\r",
      " 31%|████████████████████████████████▌                                                                         | 1534/5000 [00:06<00:14, 246.89it/s]"
     ]
    },
    {
     "name": "stderr",
     "output_type": "stream",
     "text": [
      "\r",
      " 31%|█████████████████████████████████                                                                         | 1559/5000 [00:06<00:13, 246.74it/s]"
     ]
    },
    {
     "name": "stderr",
     "output_type": "stream",
     "text": [
      "\r",
      " 32%|█████████████████████████████████▌                                                                        | 1584/5000 [00:06<00:13, 247.22it/s]"
     ]
    },
    {
     "name": "stderr",
     "output_type": "stream",
     "text": [
      "\r",
      " 32%|██████████████████████████████████                                                                        | 1609/5000 [00:06<00:13, 247.69it/s]"
     ]
    },
    {
     "name": "stderr",
     "output_type": "stream",
     "text": [
      "\r",
      " 33%|██████████████████████████████████▋                                                                       | 1634/5000 [00:06<00:13, 245.15it/s]"
     ]
    },
    {
     "name": "stderr",
     "output_type": "stream",
     "text": [
      "\r",
      " 33%|███████████████████████████████████▏                                                                      | 1659/5000 [00:06<00:14, 235.56it/s]"
     ]
    },
    {
     "name": "stderr",
     "output_type": "stream",
     "text": [
      "\r",
      " 34%|███████████████████████████████████▋                                                                      | 1683/5000 [00:06<00:14, 230.96it/s]"
     ]
    },
    {
     "name": "stderr",
     "output_type": "stream",
     "text": [
      "\r",
      " 34%|████████████████████████████████████▏                                                                     | 1709/5000 [00:06<00:13, 236.66it/s]"
     ]
    },
    {
     "name": "stderr",
     "output_type": "stream",
     "text": [
      "\r",
      " 35%|████████████████████████████████████▊                                                                     | 1735/5000 [00:07<00:13, 240.94it/s]"
     ]
    },
    {
     "name": "stderr",
     "output_type": "stream",
     "text": [
      "\r",
      " 35%|█████████████████████████████████████▎                                                                    | 1761/5000 [00:07<00:13, 245.12it/s]"
     ]
    },
    {
     "name": "stderr",
     "output_type": "stream",
     "text": [
      "\r",
      " 36%|█████████████████████████████████████▊                                                                    | 1786/5000 [00:07<00:13, 246.47it/s]"
     ]
    },
    {
     "name": "stderr",
     "output_type": "stream",
     "text": [
      "\r",
      " 36%|██████████████████████████████████████▍                                                                   | 1812/5000 [00:07<00:12, 247.88it/s]"
     ]
    },
    {
     "name": "stderr",
     "output_type": "stream",
     "text": [
      "\r",
      " 37%|██████████████████████████████████████▉                                                                   | 1837/5000 [00:07<00:12, 247.74it/s]"
     ]
    },
    {
     "name": "stderr",
     "output_type": "stream",
     "text": [
      "\r",
      " 37%|███████████████████████████████████████▍                                                                  | 1863/5000 [00:07<00:12, 250.09it/s]"
     ]
    },
    {
     "name": "stderr",
     "output_type": "stream",
     "text": [
      "\r",
      " 38%|████████████████████████████████████████                                                                  | 1889/5000 [00:07<00:12, 249.14it/s]"
     ]
    },
    {
     "name": "stderr",
     "output_type": "stream",
     "text": [
      "\r",
      " 38%|████████████████████████████████████████▌                                                                 | 1914/5000 [00:07<00:12, 249.06it/s]"
     ]
    },
    {
     "name": "stderr",
     "output_type": "stream",
     "text": [
      "\r",
      " 39%|█████████████████████████████████████████▏                                                                | 1940/5000 [00:07<00:12, 249.66it/s]"
     ]
    },
    {
     "name": "stderr",
     "output_type": "stream",
     "text": [
      "\r",
      " 39%|█████████████████████████████████████████▋                                                                | 1966/5000 [00:07<00:12, 251.11it/s]"
     ]
    },
    {
     "name": "stderr",
     "output_type": "stream",
     "text": [
      "\r",
      " 40%|██████████████████████████████████████████▏                                                               | 1992/5000 [00:08<00:11, 252.97it/s]"
     ]
    },
    {
     "name": "stderr",
     "output_type": "stream",
     "text": [
      "\r",
      " 40%|██████████████████████████████████████████▊                                                               | 2018/5000 [00:08<00:11, 252.14it/s]"
     ]
    },
    {
     "name": "stderr",
     "output_type": "stream",
     "text": [
      "\r",
      " 41%|███████████████████████████████████████████▎                                                              | 2044/5000 [00:08<00:11, 253.18it/s]"
     ]
    },
    {
     "name": "stderr",
     "output_type": "stream",
     "text": [
      "\r",
      " 41%|███████████████████████████████████████████▉                                                              | 2070/5000 [00:08<00:11, 255.00it/s]"
     ]
    },
    {
     "name": "stderr",
     "output_type": "stream",
     "text": [
      "\r",
      " 42%|████████████████████████████████████████████▍                                                             | 2096/5000 [00:08<00:11, 254.83it/s]"
     ]
    },
    {
     "name": "stderr",
     "output_type": "stream",
     "text": [
      "\r",
      " 42%|████████████████████████████████████████████▉                                                             | 2122/5000 [00:08<00:11, 253.88it/s]"
     ]
    },
    {
     "name": "stderr",
     "output_type": "stream",
     "text": [
      "\r",
      " 43%|█████████████████████████████████████████████▌                                                            | 2148/5000 [00:08<00:11, 252.06it/s]"
     ]
    },
    {
     "name": "stderr",
     "output_type": "stream",
     "text": [
      "\r",
      " 43%|██████████████████████████████████████████████                                                            | 2174/5000 [00:08<00:11, 251.71it/s]"
     ]
    },
    {
     "name": "stderr",
     "output_type": "stream",
     "text": [
      "\r",
      " 44%|██████████████████████████████████████████████▋                                                           | 2200/5000 [00:08<00:11, 250.23it/s]"
     ]
    },
    {
     "name": "stderr",
     "output_type": "stream",
     "text": [
      "\r",
      " 45%|███████████████████████████████████████████████▏                                                          | 2226/5000 [00:08<00:11, 249.25it/s]"
     ]
    },
    {
     "name": "stderr",
     "output_type": "stream",
     "text": [
      "\r",
      " 45%|███████████████████████████████████████████████▋                                                          | 2251/5000 [00:09<00:11, 248.55it/s]"
     ]
    },
    {
     "name": "stderr",
     "output_type": "stream",
     "text": [
      "\r",
      " 46%|████████████████████████████████████████████████▎                                                         | 2276/5000 [00:09<00:10, 248.41it/s]"
     ]
    },
    {
     "name": "stderr",
     "output_type": "stream",
     "text": [
      "\r",
      " 46%|████████████████████████████████████████████████▊                                                         | 2302/5000 [00:09<00:10, 251.30it/s]"
     ]
    },
    {
     "name": "stderr",
     "output_type": "stream",
     "text": [
      "\r",
      " 47%|█████████████████████████████████████████████████▎                                                        | 2328/5000 [00:09<00:10, 252.14it/s]"
     ]
    },
    {
     "name": "stderr",
     "output_type": "stream",
     "text": [
      "\r",
      " 47%|█████████████████████████████████████████████████▉                                                        | 2355/5000 [00:09<00:10, 254.23it/s]"
     ]
    },
    {
     "name": "stderr",
     "output_type": "stream",
     "text": [
      "\r",
      " 48%|██████████████████████████████████████████████████▍                                                       | 2381/5000 [00:09<00:10, 252.65it/s]"
     ]
    },
    {
     "name": "stderr",
     "output_type": "stream",
     "text": [
      "\r",
      " 48%|███████████████████████████████████████████████████                                                       | 2407/5000 [00:09<00:10, 251.50it/s]"
     ]
    },
    {
     "name": "stderr",
     "output_type": "stream",
     "text": [
      "\r",
      " 49%|███████████████████████████████████████████████████▌                                                      | 2433/5000 [00:09<00:10, 248.08it/s]"
     ]
    },
    {
     "name": "stderr",
     "output_type": "stream",
     "text": [
      "\r",
      " 49%|████████████████████████████████████████████████████                                                      | 2458/5000 [00:09<00:10, 247.73it/s]"
     ]
    },
    {
     "name": "stderr",
     "output_type": "stream",
     "text": [
      "\r",
      " 50%|████████████████████████████████████████████████████▋                                                     | 2484/5000 [00:10<00:10, 249.88it/s]"
     ]
    },
    {
     "name": "stderr",
     "output_type": "stream",
     "text": [
      "\r",
      " 50%|█████████████████████████████████████████████████████▏                                                    | 2510/5000 [00:10<00:09, 250.37it/s]"
     ]
    },
    {
     "name": "stderr",
     "output_type": "stream",
     "text": [
      "\r",
      " 51%|█████████████████████████████████████████████████████▊                                                    | 2536/5000 [00:10<00:09, 248.59it/s]"
     ]
    },
    {
     "name": "stderr",
     "output_type": "stream",
     "text": [
      "\r",
      " 51%|██████████████████████████████████████████████████████▎                                                   | 2561/5000 [00:10<00:09, 246.86it/s]"
     ]
    },
    {
     "name": "stderr",
     "output_type": "stream",
     "text": [
      "\r",
      " 52%|██████████████████████████████████████████████████████▊                                                   | 2586/5000 [00:10<00:09, 244.06it/s]"
     ]
    },
    {
     "name": "stderr",
     "output_type": "stream",
     "text": [
      "\r",
      " 52%|███████████████████████████████████████████████████████▎                                                  | 2611/5000 [00:10<00:09, 245.69it/s]"
     ]
    },
    {
     "name": "stderr",
     "output_type": "stream",
     "text": [
      "\r",
      " 53%|███████████████████████████████████████████████████████▉                                                  | 2636/5000 [00:10<00:09, 246.49it/s]"
     ]
    },
    {
     "name": "stderr",
     "output_type": "stream",
     "text": [
      "\r",
      " 53%|████████████████████████████████████████████████████████▍                                                 | 2662/5000 [00:10<00:09, 247.87it/s]"
     ]
    },
    {
     "name": "stderr",
     "output_type": "stream",
     "text": [
      "\r",
      " 54%|████████████████████████████████████████████████████████▉                                                 | 2688/5000 [00:10<00:09, 248.47it/s]"
     ]
    },
    {
     "name": "stderr",
     "output_type": "stream",
     "text": [
      "\r",
      " 54%|█████████████████████████████████████████████████████████▌                                                | 2714/5000 [00:10<00:09, 249.91it/s]"
     ]
    },
    {
     "name": "stderr",
     "output_type": "stream",
     "text": [
      "\r",
      " 55%|██████████████████████████████████████████████████████████                                                | 2740/5000 [00:11<00:08, 251.12it/s]"
     ]
    },
    {
     "name": "stderr",
     "output_type": "stream",
     "text": [
      "\r",
      " 55%|██████████████████████████████████████████████████████████▋                                               | 2766/5000 [00:11<00:09, 230.24it/s]"
     ]
    },
    {
     "name": "stderr",
     "output_type": "stream",
     "text": [
      "\r",
      " 56%|███████████████████████████████████████████████████████████▏                                              | 2790/5000 [00:11<00:09, 231.88it/s]"
     ]
    },
    {
     "name": "stderr",
     "output_type": "stream",
     "text": [
      "\r",
      " 56%|███████████████████████████████████████████████████████████▋                                              | 2814/5000 [00:11<00:09, 234.14it/s]"
     ]
    },
    {
     "name": "stderr",
     "output_type": "stream",
     "text": [
      "\r",
      " 57%|████████████████████████████████████████████████████████████▏                                             | 2839/5000 [00:11<00:09, 238.00it/s]"
     ]
    },
    {
     "name": "stderr",
     "output_type": "stream",
     "text": [
      "\r",
      " 57%|████████████████████████████████████████████████████████████▋                                             | 2863/5000 [00:11<00:08, 238.18it/s]"
     ]
    },
    {
     "name": "stderr",
     "output_type": "stream",
     "text": [
      "\r",
      " 58%|█████████████████████████████████████████████████████████████▏                                            | 2888/5000 [00:11<00:08, 241.46it/s]"
     ]
    },
    {
     "name": "stderr",
     "output_type": "stream",
     "text": [
      "\r",
      " 58%|█████████████████████████████████████████████████████████████▊                                            | 2913/5000 [00:11<00:08, 241.38it/s]"
     ]
    },
    {
     "name": "stderr",
     "output_type": "stream",
     "text": [
      "\r",
      " 59%|██████████████████████████████████████████████████████████████▎                                           | 2939/5000 [00:11<00:08, 244.50it/s]"
     ]
    },
    {
     "name": "stderr",
     "output_type": "stream",
     "text": [
      "\r",
      " 59%|██████████████████████████████████████████████████████████████▊                                           | 2964/5000 [00:12<00:08, 241.45it/s]"
     ]
    },
    {
     "name": "stderr",
     "output_type": "stream",
     "text": [
      "\r",
      " 60%|███████████████████████████████████████████████████████████████▍                                          | 2990/5000 [00:12<00:08, 245.71it/s]"
     ]
    },
    {
     "name": "stderr",
     "output_type": "stream",
     "text": [
      "\r",
      " 60%|███████████████████████████████████████████████████████████████▉                                          | 3015/5000 [00:12<00:08, 243.08it/s]"
     ]
    },
    {
     "name": "stderr",
     "output_type": "stream",
     "text": [
      "\r",
      " 61%|████████████████████████████████████████████████████████████████▍                                         | 3040/5000 [00:12<00:08, 237.33it/s]"
     ]
    },
    {
     "name": "stderr",
     "output_type": "stream",
     "text": [
      "\r",
      " 61%|████████████████████████████████████████████████████████████████▉                                         | 3064/5000 [00:12<00:08, 231.25it/s]"
     ]
    },
    {
     "name": "stderr",
     "output_type": "stream",
     "text": [
      "\r",
      " 62%|█████████████████████████████████████████████████████████████████▍                                        | 3088/5000 [00:12<00:08, 224.93it/s]"
     ]
    },
    {
     "name": "stderr",
     "output_type": "stream",
     "text": [
      "\r",
      " 62%|█████████████████████████████████████████████████████████████████▉                                        | 3111/5000 [00:12<00:08, 215.58it/s]"
     ]
    },
    {
     "name": "stderr",
     "output_type": "stream",
     "text": [
      "\r",
      " 63%|██████████████████████████████████████████████████████████████████▍                                       | 3133/5000 [00:12<00:08, 216.72it/s]"
     ]
    },
    {
     "name": "stderr",
     "output_type": "stream",
     "text": [
      "\r",
      " 63%|██████████████████████████████████████████████████████████████████▉                                       | 3159/5000 [00:12<00:08, 226.40it/s]"
     ]
    },
    {
     "name": "stderr",
     "output_type": "stream",
     "text": [
      "\r",
      " 64%|███████████████████████████████████████████████████████████████████▌                                      | 3184/5000 [00:12<00:07, 232.26it/s]"
     ]
    },
    {
     "name": "stderr",
     "output_type": "stream",
     "text": [
      "\r",
      " 64%|████████████████████████████████████████████████████████████████████                                      | 3208/5000 [00:13<00:07, 226.99it/s]"
     ]
    },
    {
     "name": "stderr",
     "output_type": "stream",
     "text": [
      "\r",
      " 65%|████████████████████████████████████████████████████████████████████▍                                     | 3231/5000 [00:13<00:07, 227.63it/s]"
     ]
    },
    {
     "name": "stderr",
     "output_type": "stream",
     "text": [
      "\r",
      " 65%|█████████████████████████████████████████████████████████████████████                                     | 3256/5000 [00:13<00:07, 232.39it/s]"
     ]
    },
    {
     "name": "stderr",
     "output_type": "stream",
     "text": [
      "\r",
      " 66%|█████████████████████████████████████████████████████████████████████▌                                    | 3280/5000 [00:13<00:07, 233.07it/s]"
     ]
    },
    {
     "name": "stderr",
     "output_type": "stream",
     "text": [
      "\r",
      " 66%|██████████████████████████████████████████████████████████████████████                                    | 3305/5000 [00:13<00:07, 236.74it/s]"
     ]
    },
    {
     "name": "stderr",
     "output_type": "stream",
     "text": [
      "\r",
      " 67%|██████████████████████████████████████████████████████████████████████▌                                   | 3329/5000 [00:13<00:07, 225.85it/s]"
     ]
    },
    {
     "name": "stderr",
     "output_type": "stream",
     "text": [
      "\r",
      " 67%|███████████████████████████████████████████████████████████████████████                                   | 3352/5000 [00:13<00:07, 226.01it/s]"
     ]
    },
    {
     "name": "stderr",
     "output_type": "stream",
     "text": [
      "\r",
      " 68%|███████████████████████████████████████████████████████████████████████▌                                  | 3376/5000 [00:13<00:07, 229.00it/s]"
     ]
    },
    {
     "name": "stderr",
     "output_type": "stream",
     "text": [
      "\r",
      " 68%|████████████████████████████████████████████████████████████████████████                                  | 3401/5000 [00:13<00:06, 235.05it/s]"
     ]
    },
    {
     "name": "stderr",
     "output_type": "stream",
     "text": [
      "\r",
      " 69%|████████████████████████████████████████████████████████████████████████▋                                 | 3427/5000 [00:14<00:06, 239.75it/s]"
     ]
    },
    {
     "name": "stderr",
     "output_type": "stream",
     "text": [
      "\r",
      " 69%|█████████████████████████████████████████████████████████████████████████▏                                | 3453/5000 [00:14<00:06, 243.73it/s]"
     ]
    },
    {
     "name": "stderr",
     "output_type": "stream",
     "text": [
      "\r",
      " 70%|█████████████████████████████████████████████████████████████████████████▋                                | 3478/5000 [00:14<00:06, 244.09it/s]"
     ]
    },
    {
     "name": "stderr",
     "output_type": "stream",
     "text": [
      "\r",
      " 70%|██████████████████████████████████████████████████████████████████████████▎                               | 3504/5000 [00:14<00:06, 246.69it/s]"
     ]
    },
    {
     "name": "stderr",
     "output_type": "stream",
     "text": [
      "\r",
      " 71%|██████████████████████████████████████████████████████████████████████████▊                               | 3529/5000 [00:14<00:05, 246.76it/s]"
     ]
    },
    {
     "name": "stderr",
     "output_type": "stream",
     "text": [
      "\r",
      " 71%|███████████████████████████████████████████████████████████████████████████▎                              | 3554/5000 [00:14<00:05, 247.48it/s]"
     ]
    },
    {
     "name": "stderr",
     "output_type": "stream",
     "text": [
      "\r",
      " 72%|███████████████████████████████████████████████████████████████████████████▊                              | 3579/5000 [00:14<00:05, 244.17it/s]"
     ]
    },
    {
     "name": "stderr",
     "output_type": "stream",
     "text": [
      "\r",
      " 72%|████████████████████████████████████████████████████████████████████████████▍                             | 3604/5000 [00:14<00:05, 242.51it/s]"
     ]
    },
    {
     "name": "stderr",
     "output_type": "stream",
     "text": [
      "\r",
      " 73%|████████████████████████████████████████████████████████████████████████████▉                             | 3630/5000 [00:14<00:05, 245.83it/s]"
     ]
    },
    {
     "name": "stderr",
     "output_type": "stream",
     "text": [
      "\r",
      " 73%|█████████████████████████████████████████████████████████████████████████████▌                            | 3656/5000 [00:14<00:05, 249.05it/s]"
     ]
    },
    {
     "name": "stderr",
     "output_type": "stream",
     "text": [
      "\r",
      " 74%|██████████████████████████████████████████████████████████████████████████████                            | 3681/5000 [00:15<00:05, 245.59it/s]"
     ]
    },
    {
     "name": "stderr",
     "output_type": "stream",
     "text": [
      "\r",
      " 74%|██████████████████████████████████████████████████████████████████████████████▌                           | 3707/5000 [00:15<00:05, 247.50it/s]"
     ]
    },
    {
     "name": "stderr",
     "output_type": "stream",
     "text": [
      "\r",
      " 75%|███████████████████████████████████████████████████████████████████████████████▏                          | 3733/5000 [00:15<00:05, 248.75it/s]"
     ]
    },
    {
     "name": "stderr",
     "output_type": "stream",
     "text": [
      "\r",
      " 75%|███████████████████████████████████████████████████████████████████████████████▋                          | 3758/5000 [00:15<00:05, 246.88it/s]"
     ]
    },
    {
     "name": "stderr",
     "output_type": "stream",
     "text": [
      "\r",
      " 76%|████████████████████████████████████████████████████████████████████████████████▏                         | 3783/5000 [00:15<00:04, 245.00it/s]"
     ]
    },
    {
     "name": "stderr",
     "output_type": "stream",
     "text": [
      "\r",
      " 76%|████████████████████████████████████████████████████████████████████████████████▊                         | 3809/5000 [00:15<00:04, 247.53it/s]"
     ]
    },
    {
     "name": "stderr",
     "output_type": "stream",
     "text": [
      "\r",
      " 77%|█████████████████████████████████████████████████████████████████████████████████▎                        | 3834/5000 [00:15<00:04, 247.71it/s]"
     ]
    },
    {
     "name": "stderr",
     "output_type": "stream",
     "text": [
      "\r",
      " 77%|█████████████████████████████████████████████████████████████████████████████████▊                        | 3859/5000 [00:15<00:04, 244.72it/s]"
     ]
    },
    {
     "name": "stderr",
     "output_type": "stream",
     "text": [
      "\r",
      " 78%|██████████████████████████████████████████████████████████████████████████████████▎                       | 3884/5000 [00:15<00:04, 241.25it/s]"
     ]
    },
    {
     "name": "stderr",
     "output_type": "stream",
     "text": [
      "\r",
      " 78%|██████████████████████████████████████████████████████████████████████████████████▊                       | 3909/5000 [00:15<00:04, 241.07it/s]"
     ]
    },
    {
     "name": "stderr",
     "output_type": "stream",
     "text": [
      "\r",
      " 79%|███████████████████████████████████████████████████████████████████████████████████▍                      | 3934/5000 [00:16<00:04, 242.75it/s]"
     ]
    },
    {
     "name": "stderr",
     "output_type": "stream",
     "text": [
      "\r",
      " 79%|███████████████████████████████████████████████████████████████████████████████████▉                      | 3959/5000 [00:16<00:04, 241.86it/s]"
     ]
    },
    {
     "name": "stderr",
     "output_type": "stream",
     "text": [
      "\r",
      " 80%|████████████████████████████████████████████████████████████████████████████████████▍                     | 3984/5000 [00:16<00:04, 243.12it/s]"
     ]
    },
    {
     "name": "stderr",
     "output_type": "stream",
     "text": [
      "\r",
      " 80%|████████████████████████████████████████████████████████████████████████████████████▉                     | 4009/5000 [00:16<00:04, 242.22it/s]"
     ]
    },
    {
     "name": "stderr",
     "output_type": "stream",
     "text": [
      "\r",
      " 81%|█████████████████████████████████████████████████████████████████████████████████████▌                    | 4034/5000 [00:16<00:03, 243.43it/s]"
     ]
    },
    {
     "name": "stderr",
     "output_type": "stream",
     "text": [
      "\r",
      " 81%|██████████████████████████████████████████████████████████████████████████████████████                    | 4060/5000 [00:16<00:03, 246.13it/s]"
     ]
    },
    {
     "name": "stderr",
     "output_type": "stream",
     "text": [
      "\r",
      " 82%|██████████████████████████████████████████████████████████████████████████████████████▌                   | 4086/5000 [00:16<00:03, 249.60it/s]"
     ]
    },
    {
     "name": "stderr",
     "output_type": "stream",
     "text": [
      "\r",
      " 82%|███████████████████████████████████████████████████████████████████████████████████████▏                  | 4111/5000 [00:16<00:03, 246.56it/s]"
     ]
    },
    {
     "name": "stderr",
     "output_type": "stream",
     "text": [
      "\r",
      " 83%|███████████████████████████████████████████████████████████████████████████████████████▋                  | 4137/5000 [00:16<00:03, 248.16it/s]"
     ]
    },
    {
     "name": "stderr",
     "output_type": "stream",
     "text": [
      "\r",
      " 83%|████████████████████████████████████████████████████████████████████████████████████████▏                 | 4162/5000 [00:17<00:03, 247.50it/s]"
     ]
    },
    {
     "name": "stderr",
     "output_type": "stream",
     "text": [
      "\r",
      " 84%|████████████████████████████████████████████████████████████████████████████████████████▊                 | 4188/5000 [00:17<00:03, 249.62it/s]"
     ]
    },
    {
     "name": "stderr",
     "output_type": "stream",
     "text": [
      "\r",
      " 84%|█████████████████████████████████████████████████████████████████████████████████████████▎                | 4213/5000 [00:17<00:03, 248.84it/s]"
     ]
    },
    {
     "name": "stderr",
     "output_type": "stream",
     "text": [
      "\r",
      " 85%|█████████████████████████████████████████████████████████████████████████████████████████▊                | 4238/5000 [00:17<00:03, 249.10it/s]"
     ]
    },
    {
     "name": "stderr",
     "output_type": "stream",
     "text": [
      "\r",
      " 85%|██████████████████████████████████████████████████████████████████████████████████████████▍               | 4263/5000 [00:17<00:02, 247.13it/s]"
     ]
    },
    {
     "name": "stderr",
     "output_type": "stream",
     "text": [
      "\r",
      " 86%|██████████████████████████████████████████████████████████████████████████████████████████▉               | 4288/5000 [00:17<00:02, 244.52it/s]"
     ]
    },
    {
     "name": "stderr",
     "output_type": "stream",
     "text": [
      "\r",
      " 86%|███████████████████████████████████████████████████████████████████████████████████████████▍              | 4313/5000 [00:17<00:02, 243.93it/s]"
     ]
    },
    {
     "name": "stderr",
     "output_type": "stream",
     "text": [
      "\r",
      " 87%|███████████████████████████████████████████████████████████████████████████████████████████▉              | 4338/5000 [00:17<00:02, 245.29it/s]"
     ]
    },
    {
     "name": "stderr",
     "output_type": "stream",
     "text": [
      "\r",
      " 87%|████████████████████████████████████████████████████████████████████████████████████████████▍             | 4363/5000 [00:17<00:02, 245.43it/s]"
     ]
    },
    {
     "name": "stderr",
     "output_type": "stream",
     "text": [
      "\r",
      " 88%|█████████████████████████████████████████████████████████████████████████████████████████████             | 4389/5000 [00:17<00:02, 247.84it/s]"
     ]
    },
    {
     "name": "stderr",
     "output_type": "stream",
     "text": [
      "\r",
      " 88%|█████████████████████████████████████████████████████████████████████████████████████████████▌            | 4414/5000 [00:18<00:02, 244.26it/s]"
     ]
    },
    {
     "name": "stderr",
     "output_type": "stream",
     "text": [
      "\r",
      " 89%|██████████████████████████████████████████████████████████████████████████████████████████████            | 4439/5000 [00:18<00:02, 241.38it/s]"
     ]
    },
    {
     "name": "stderr",
     "output_type": "stream",
     "text": [
      "\r",
      " 89%|██████████████████████████████████████████████████████████████████████████████████████████████▋           | 4464/5000 [00:18<00:02, 242.09it/s]"
     ]
    },
    {
     "name": "stderr",
     "output_type": "stream",
     "text": [
      "\r",
      " 90%|███████████████████████████████████████████████████████████████████████████████████████████████▏          | 4489/5000 [00:18<00:02, 240.35it/s]"
     ]
    },
    {
     "name": "stderr",
     "output_type": "stream",
     "text": [
      "\r",
      " 90%|███████████████████████████████████████████████████████████████████████████████████████████████▋          | 4514/5000 [00:18<00:02, 239.73it/s]"
     ]
    },
    {
     "name": "stderr",
     "output_type": "stream",
     "text": [
      "\r",
      " 91%|████████████████████████████████████████████████████████████████████████████████████████████████▏         | 4538/5000 [00:18<00:01, 238.71it/s]"
     ]
    },
    {
     "name": "stderr",
     "output_type": "stream",
     "text": [
      "\r",
      " 91%|████████████████████████████████████████████████████████████████████████████████████████████████▋         | 4562/5000 [00:18<00:01, 237.10it/s]"
     ]
    },
    {
     "name": "stderr",
     "output_type": "stream",
     "text": [
      "\r",
      " 92%|█████████████████████████████████████████████████████████████████████████████████████████████████▏        | 4587/5000 [00:18<00:01, 238.55it/s]"
     ]
    },
    {
     "name": "stderr",
     "output_type": "stream",
     "text": [
      "\r",
      " 92%|█████████████████████████████████████████████████████████████████████████████████████████████████▊        | 4612/5000 [00:18<00:01, 240.44it/s]"
     ]
    },
    {
     "name": "stderr",
     "output_type": "stream",
     "text": [
      "\r",
      " 93%|██████████████████████████████████████████████████████████████████████████████████████████████████▎       | 4637/5000 [00:18<00:01, 242.15it/s]"
     ]
    },
    {
     "name": "stderr",
     "output_type": "stream",
     "text": [
      "\r",
      " 93%|██████████████████████████████████████████████████████████████████████████████████████████████████▊       | 4663/5000 [00:19<00:01, 245.63it/s]"
     ]
    },
    {
     "name": "stderr",
     "output_type": "stream",
     "text": [
      "\r",
      " 94%|███████████████████████████████████████████████████████████████████████████████████████████████████▍      | 4688/5000 [00:19<00:01, 242.54it/s]"
     ]
    },
    {
     "name": "stderr",
     "output_type": "stream",
     "text": [
      "\r",
      " 94%|███████████████████████████████████████████████████████████████████████████████████████████████████▉      | 4713/5000 [00:19<00:01, 237.67it/s]"
     ]
    },
    {
     "name": "stderr",
     "output_type": "stream",
     "text": [
      "\r",
      " 95%|████████████████████████████████████████████████████████████████████████████████████████████████████▍     | 4737/5000 [00:19<00:01, 232.27it/s]"
     ]
    },
    {
     "name": "stderr",
     "output_type": "stream",
     "text": [
      "\r",
      " 95%|████████████████████████████████████████████████████████████████████████████████████████████████████▉     | 4761/5000 [00:19<00:01, 230.73it/s]"
     ]
    },
    {
     "name": "stderr",
     "output_type": "stream",
     "text": [
      "\r",
      " 96%|█████████████████████████████████████████████████████████████████████████████████████████████████████▍    | 4785/5000 [00:19<00:00, 232.18it/s]"
     ]
    },
    {
     "name": "stderr",
     "output_type": "stream",
     "text": [
      "\r",
      " 96%|█████████████████████████████████████████████████████████████████████████████████████████████████████▉    | 4810/5000 [00:19<00:00, 236.30it/s]"
     ]
    },
    {
     "name": "stderr",
     "output_type": "stream",
     "text": [
      "\r",
      " 97%|██████████████████████████████████████████████████████████████████████████████████████████████████████▌   | 4836/5000 [00:19<00:00, 242.55it/s]"
     ]
    },
    {
     "name": "stderr",
     "output_type": "stream",
     "text": [
      "\r",
      " 97%|███████████████████████████████████████████████████████████████████████████████████████████████████████   | 4861/5000 [00:19<00:00, 239.26it/s]"
     ]
    },
    {
     "name": "stderr",
     "output_type": "stream",
     "text": [
      "\r",
      " 98%|███████████████████████████████████████████████████████████████████████████████████████████████████████▌  | 4885/5000 [00:20<00:00, 225.55it/s]"
     ]
    },
    {
     "name": "stderr",
     "output_type": "stream",
     "text": [
      "\r",
      " 98%|████████████████████████████████████████████████████████████████████████████████████████████████████████  | 4908/5000 [00:20<00:00, 224.23it/s]"
     ]
    },
    {
     "name": "stderr",
     "output_type": "stream",
     "text": [
      "\r",
      " 99%|████████████████████████████████████████████████████████████████████████████████████████████████████████▌ | 4932/5000 [00:20<00:00, 227.07it/s]"
     ]
    },
    {
     "name": "stderr",
     "output_type": "stream",
     "text": [
      "\r",
      " 99%|█████████████████████████████████████████████████████████████████████████████████████████████████████████ | 4956/5000 [00:20<00:00, 230.73it/s]"
     ]
    },
    {
     "name": "stderr",
     "output_type": "stream",
     "text": [
      "\r",
      "100%|█████████████████████████████████████████████████████████████████████████████████████████████████████████▌| 4981/5000 [00:20<00:00, 235.56it/s]"
     ]
    },
    {
     "name": "stderr",
     "output_type": "stream",
     "text": [
      "\r",
      "100%|██████████████████████████████████████████████████████████████████████████████████████████████████████████| 5000/5000 [00:20<00:00, 243.71it/s]"
     ]
    },
    {
     "name": "stderr",
     "output_type": "stream",
     "text": [
      "\n"
     ]
    },
    {
     "name": "stdout",
     "output_type": "stream",
     "text": [
      "The chain is shorter than 50 times the integrated autocorrelation time for 1 parameter(s). Use this estimate with caution and run a longer chain!\n",
      "N/50 = 100;\n",
      "tau: [ 75.55765186  80.39010636  56.94722648 128.8739852 ]\n"
     ]
    },
    {
     "data": {
      "image/png": "[encoded data removed]",
      "text/plain": [
       "<Figure size 432x432 with 2 Axes>"
      ]
     },
     "metadata": {
      "filenames": {
       "image/png": "/Users/youngsam/Documents/GitHub/grbLC/docs_src/_build/jupyter_execute/grblc.fitting_1_201.png"
      },
      "needs_background": "light"
     },
     "output_type": "display_data"
    },
    {
     "data": {
      "image/png": "[encoded data removed]",
      "text/plain": [
       "<Figure size 698.4x698.4 with 16 Axes>"
      ]
     },
     "metadata": {
      "filenames": {
       "image/png": "/Users/youngsam/Documents/GitHub/grbLC/docs_src/_build/jupyter_execute/grblc.fitting_1_202.png"
      },
      "needs_background": "light"
     },
     "output_type": "display_data"
    },
    {
     "data": {
      "image/png": "[encoded data removed]",
      "text/plain": [
       "<Figure size 1440x360 with 4 Axes>"
      ]
     },
     "metadata": {
      "filenames": {
       "image/png": "/Users/youngsam/Documents/GitHub/grbLC/docs_src/_build/jupyter_execute/grblc.fitting_1_203.png"
      },
      "needs_background": "light"
     },
     "output_type": "display_data"
    },
    {
     "name": "stdout",
     "output_type": "stream",
     "text": [
      "[[Fit Statistics]]\n",
      "    # fitting method   = emcee\n",
      "    # function evals   = 500000\n",
      "    # data points      = 15\n",
      "    # variables        = 4\n",
      "    chi-square         = 14.7073253\n",
      "    reduced chi-square = 1.33702957\n",
      "    Akaike info crit   = 7.70443228\n",
      "    Bayesian info crit = 10.5366331\n",
      "[[Variables]]\n",
      "    T:      5.05068374 +/- 0.12086526 (2.39%) (init = 5.04064)\n",
      "    F:     -12.0439173 +/- 0.15997654 (1.33%) (init = -12.02268)\n",
      "    alpha:  1.50391660 +/- 0.03219212 (2.14%) (init = 1.506999)\n",
      "    t:      0.21827399 +/- 1.65279373 (757.21%) (init = 0.2220766)\n"
     ]
    }
   ],
   "source": [
    "import numpy as np\n",
    "from grblc.fitting import Model, Lightcurve\n",
    "\n",
    "model = Model.W07()\n",
    "xdata = np.linspace(0, 10, 15)\n",
    "yerr = np.random.normal(0, 0.5, len(xdata))\n",
    "ydata = model(xdata, 5, -12, 1.5, 0) + yerr\n",
    "lc = Lightcurve(xdata=xdata, ydata=ydata, yerr=yerr, model=model)\n",
    "lc.fit(p0=[4.5, -12.5, 1, 0])\n",
    "lc.show_fit(detailed=True)"
   ]
  },
  {
   "cell_type": "code",
   "execution_count": 3,
   "id": "93dafe2f",
   "metadata": {
    "execution": {
     "iopub.execute_input": "2022-07-13T19:11:42.206667Z",
     "iopub.status.busy": "2022-07-13T19:11:42.206553Z",
     "iopub.status.idle": "2022-07-13T19:11:42.298263Z",
     "shell.execute_reply": "2022-07-13T19:11:42.297978Z"
    }
   },
   "outputs": [
    {
     "data": {
      "image/png": "[encoded data removed]",
      "text/plain": [
       "<Figure size 432x288 with 1 Axes>"
      ]
     },
     "metadata": {
      "filenames": {
       "image/png": "/Users/youngsam/Documents/GitHub/grbLC/docs_src/_build/jupyter_execute/grblc.fitting_2_0.png"
      },
      "needs_background": "light"
     },
     "output_type": "display_data"
    }
   ],
   "source": [
    "import matplotlib.pyplot as plt\n",
    "import numpy as np\n",
    "from grblc.fitting import Model\n",
    "\n",
    "sbpl = Model.SIMPLE_BPL()\n",
    "x = np.linspace(2, 8, 100)\n",
    "T, F, alpha1, alpha2 = p = 5, -12, -0.1, 1.5\n",
    "y = sbpl(x, *p)\n",
    "plt.plot(x, y)\n",
    "plt.title(sbpl.name)\n",
    "plt.xlabel(\"log Time (s)\")\n",
    "plt.ylabel(\"log Flux (erg cm$^{-2}$ s$^{-1}$)\")\n",
    "plt.show()"
   ]
  },
  {
   "cell_type": "code",
   "execution_count": 4,
   "id": "46278289",
   "metadata": {
    "execution": {
     "iopub.execute_input": "2022-07-13T19:11:42.299779Z",
     "iopub.status.busy": "2022-07-13T19:11:42.299661Z",
     "iopub.status.idle": "2022-07-13T19:11:42.343020Z",
     "shell.execute_reply": "2022-07-13T19:11:42.342741Z"
    }
   },
   "outputs": [
    {
     "data": {
      "image/png": "[encoded data removed]",
      "text/plain": [
       "<Figure size 432x288 with 1 Axes>"
      ]
     },
     "metadata": {
      "filenames": {
       "image/png": "/Users/youngsam/Documents/GitHub/grbLC/docs_src/_build/jupyter_execute/grblc.fitting_3_0.png"
      },
      "needs_background": "light"
     },
     "output_type": "display_data"
    }
   ],
   "source": [
    "import matplotlib.pyplot as plt\n",
    "import numpy as np\n",
    "from grblc.fitting import Model\n",
    "%matplotlib inline\n",
    "\n",
    "sbpl = Model.SMOOTH_BPL()\n",
    "x = np.linspace(2, 8, 100)\n",
    "T, F, alpha1, alpha2, S = p = 5, -12, -0.1, 1.5, 0.5\n",
    "y = sbpl(x, *p)\n",
    "plt.plot(x, y)\n",
    "plt.title(sbpl.name)\n",
    "plt.xlabel(\"log Time (s)\")\n",
    "plt.ylabel(\"log Flux (erg cm\\(^{-2}\\) s\\(^{-1}\\))\")\n",
    "plt.show()"
   ]
  },
  {
   "cell_type": "code",
   "execution_count": 5,
   "id": "6a875eb4",
   "metadata": {
    "execution": {
     "iopub.execute_input": "2022-07-13T19:11:42.344566Z",
     "iopub.status.busy": "2022-07-13T19:11:42.344446Z",
     "iopub.status.idle": "2022-07-13T19:11:42.394963Z",
     "shell.execute_reply": "2022-07-13T19:11:42.394669Z"
    }
   },
   "outputs": [
    {
     "data": {
      "image/png": "[encoded data removed]",
      "text/plain": [
       "<Figure size 432x288 with 1 Axes>"
      ]
     },
     "metadata": {
      "filenames": {
       "image/png": "/Users/youngsam/Documents/GitHub/grbLC/docs_src/_build/jupyter_execute/grblc.fitting_4_0.png"
      },
      "needs_background": "light"
     },
     "output_type": "display_data"
    }
   ],
   "source": [
    "import matplotlib.pyplot as plt\n",
    "import numpy as np\n",
    "from grblc.fitting import Model\n",
    "%matplotlib inline\n",
    "\n",
    "w07 = Model.W07()\n",
    "x = np.linspace(2, 8, 100)\n",
    "T, F, alpha, t = 5, -12, 1.5, 1\n",
    "y = w07(x, T, F, alpha, t)\n",
    "plt.plot(x, y)\n",
    "plt.title(w07.name)\n",
    "plt.xlabel(\"log Time (s)\")\n",
    "plt.ylabel(\"log Flux (erg cm$^{-2}$ s$^{-1}$)\")\n",
    "plt.show()"
   ]
  }
 ],
 "metadata": {
  "kernelspec": {
   "display_name": "Python 3 (ipykernel)",
   "language": "python",
   "name": "python3"
  },
  "language_info": {
   "codemirror_mode": {
    "name": "ipython",
    "version": 3
   },
   "file_extension": ".py",
   "mimetype": "text/x-python",
   "name": "python",
   "nbconvert_exporter": "python",
   "pygments_lexer": "ipython3",
   "version": "3.8.13"
  }
 },
 "nbformat": 4,
 "nbformat_minor": 5
}