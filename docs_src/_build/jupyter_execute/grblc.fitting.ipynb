{
 "cells": [
  {
   "cell_type": "code",
   "execution_count": 1,
   "id": "61e183e8",
   "metadata": {
    "execution": {
     "iopub.execute_input": "2022-07-13T18:04:32.499674Z",
     "iopub.status.busy": "2022-07-13T18:04:32.499421Z",
     "iopub.status.idle": "2022-07-13T18:04:33.592051Z",
     "shell.execute_reply": "2022-07-13T18:04:33.591732Z"
    }
   },
   "outputs": [
    {
     "data": {
      "image/png": "[encoded data removed]",
      "text/plain": [
       "<Figure size 432x432 with 1 Axes>"
      ]
     },
     "metadata": {
      "filenames": {
       "image/png": "/Users/youngsam/Documents/GitHub/grbLC/docs_src/_build/jupyter_execute/grblc.fitting_0_0.png"
      },
      "needs_background": "light"
     },
     "output_type": "display_data"
    }
   ],
   "source": [
    "import numpy as np\n",
    "from grblc.fitting import Model, Lightcurve\n",
    "\n",
    "model = Model.W07(vary_t=False)\n",
    "xdata = np.linspace(0, 10, 15)\n",
    "yerr = np.random.normal(0, 0.5, len(xdata))\n",
    "ydata = model(xdata, 5, -12, 1.5, 0) + yerr\n",
    "lc = Lightcurve(xdata=xdata, ydata=ydata, yerr=yerr, model=model)\n",
    "lc.show_data()"
   ]
  },
  {
   "cell_type": "code",
   "execution_count": 2,
   "id": "ab59b831",
   "metadata": {
    "execution": {
     "iopub.execute_input": "2022-07-13T18:04:33.593676Z",
     "iopub.status.busy": "2022-07-13T18:04:33.593511Z",
     "iopub.status.idle": "2022-07-13T18:04:53.792645Z",
     "shell.execute_reply": "2022-07-13T18:04:53.792331Z"
    }
   },
   "outputs": [
    {
     "name": "stderr",
     "output_type": "stream",
     "text": [
      "\r",
      "  0%|                                                                                                                      | 0/5000 [00:00<?, ?it/s]"
     ]
    },
    {
     "name": "stderr",
     "output_type": "stream",
     "text": [
      "\r",
      "  0%|▍                                                                                                           | 23/5000 [00:00<00:21, 229.56it/s]"
     ]
    },
    {
     "name": "stderr",
     "output_type": "stream",
     "text": [
      "\r",
      "  1%|█                                                                                                           | 48/5000 [00:00<00:20, 237.95it/s]"
     ]
    },
    {
     "name": "stderr",
     "output_type": "stream",
     "text": [
      "\r",
      "  1%|█▌                                                                                                          | 73/5000 [00:00<00:20, 241.64it/s]"
     ]
    },
    {
     "name": "stderr",
     "output_type": "stream",
     "text": [
      "\r",
      "  2%|██                                                                                                          | 98/5000 [00:00<00:20, 243.25it/s]"
     ]
    },
    {
     "name": "stderr",
     "output_type": "stream",
     "text": [
      "\r",
      "  2%|██▋                                                                                                        | 124/5000 [00:00<00:19, 246.06it/s]"
     ]
    },
    {
     "name": "stderr",
     "output_type": "stream",
     "text": [
      "\r",
      "  3%|███▏                                                                                                       | 149/5000 [00:00<00:19, 245.51it/s]"
     ]
    },
    {
     "name": "stderr",
     "output_type": "stream",
     "text": [
      "\r",
      "  3%|███▋                                                                                                       | 174/5000 [00:00<00:19, 246.20it/s]"
     ]
    },
    {
     "name": "stderr",
     "output_type": "stream",
     "text": [
      "\r",
      "  4%|████▎                                                                                                      | 199/5000 [00:00<00:19, 246.41it/s]"
     ]
    },
    {
     "name": "stderr",
     "output_type": "stream",
     "text": [
      "\r",
      "  4%|████▊                                                                                                      | 224/5000 [00:00<00:19, 243.87it/s]"
     ]
    },
    {
     "name": "stderr",
     "output_type": "stream",
     "text": [
      "\r",
      "  5%|█████▎                                                                                                     | 250/5000 [00:01<00:19, 248.69it/s]"
     ]
    },
    {
     "name": "stderr",
     "output_type": "stream",
     "text": [
      "\r",
      "  6%|█████▉                                                                                                     | 276/5000 [00:01<00:18, 249.31it/s]"
     ]
    },
    {
     "name": "stderr",
     "output_type": "stream",
     "text": [
      "\r",
      "  6%|██████▍                                                                                                    | 303/5000 [00:01<00:18, 253.25it/s]"
     ]
    },
    {
     "name": "stderr",
     "output_type": "stream",
     "text": [
      "\r",
      "  7%|███████                                                                                                    | 330/5000 [00:01<00:18, 255.30it/s]"
     ]
    },
    {
     "name": "stderr",
     "output_type": "stream",
     "text": [
      "\r",
      "  7%|███████▌                                                                                                   | 356/5000 [00:01<00:18, 255.00it/s]"
     ]
    },
    {
     "name": "stderr",
     "output_type": "stream",
     "text": [
      "\r",
      "  8%|████████▏                                                                                                  | 383/5000 [00:01<00:17, 258.20it/s]"
     ]
    },
    {
     "name": "stderr",
     "output_type": "stream",
     "text": [
      "\r",
      "  8%|████████▊                                                                                                  | 410/5000 [00:01<00:17, 258.71it/s]"
     ]
    },
    {
     "name": "stderr",
     "output_type": "stream",
     "text": [
      "\r",
      "  9%|█████████▎                                                                                                 | 436/5000 [00:01<00:17, 258.39it/s]"
     ]
    },
    {
     "name": "stderr",
     "output_type": "stream",
     "text": [
      "\r",
      "  9%|█████████▉                                                                                                 | 462/5000 [00:01<00:17, 258.12it/s]"
     ]
    },
    {
     "name": "stderr",
     "output_type": "stream",
     "text": [
      "\r",
      " 10%|██████████▍                                                                                                | 489/5000 [00:01<00:17, 258.94it/s]"
     ]
    },
    {
     "name": "stderr",
     "output_type": "stream",
     "text": [
      "\r",
      " 10%|███████████                                                                                                | 516/5000 [00:02<00:17, 259.60it/s]"
     ]
    },
    {
     "name": "stderr",
     "output_type": "stream",
     "text": [
      "\r",
      " 11%|███████████▌                                                                                               | 542/5000 [00:02<00:17, 255.67it/s]"
     ]
    },
    {
     "name": "stderr",
     "output_type": "stream",
     "text": [
      "\r",
      " 11%|████████████▏                                                                                              | 568/5000 [00:02<00:17, 254.89it/s]"
     ]
    },
    {
     "name": "stderr",
     "output_type": "stream",
     "text": [
      "\r",
      " 12%|████████████▋                                                                                              | 594/5000 [00:02<00:17, 255.43it/s]"
     ]
    },
    {
     "name": "stderr",
     "output_type": "stream",
     "text": [
      "\r",
      " 12%|█████████████▎                                                                                             | 620/5000 [00:02<00:17, 256.03it/s]"
     ]
    },
    {
     "name": "stderr",
     "output_type": "stream",
     "text": [
      "\r",
      " 13%|█████████████▊                                                                                             | 647/5000 [00:02<00:16, 258.15it/s]"
     ]
    },
    {
     "name": "stderr",
     "output_type": "stream",
     "text": [
      "\r",
      " 13%|██████████████▍                                                                                            | 673/5000 [00:02<00:16, 255.92it/s]"
     ]
    },
    {
     "name": "stderr",
     "output_type": "stream",
     "text": [
      "\r",
      " 14%|██████████████▉                                                                                            | 699/5000 [00:02<00:16, 255.59it/s]"
     ]
    },
    {
     "name": "stderr",
     "output_type": "stream",
     "text": [
      "\r",
      " 15%|███████████████▌                                                                                           | 726/5000 [00:02<00:16, 258.29it/s]"
     ]
    },
    {
     "name": "stderr",
     "output_type": "stream",
     "text": [
      "\r",
      " 15%|████████████████                                                                                           | 752/5000 [00:02<00:16, 255.12it/s]"
     ]
    },
    {
     "name": "stderr",
     "output_type": "stream",
     "text": [
      "\r",
      " 16%|████████████████▋                                                                                          | 779/5000 [00:03<00:16, 257.54it/s]"
     ]
    },
    {
     "name": "stderr",
     "output_type": "stream",
     "text": [
      "\r",
      " 16%|█████████████████▏                                                                                         | 806/5000 [00:03<00:16, 260.04it/s]"
     ]
    },
    {
     "name": "stderr",
     "output_type": "stream",
     "text": [
      "\r",
      " 17%|█████████████████▊                                                                                         | 833/5000 [00:03<00:16, 260.17it/s]"
     ]
    },
    {
     "name": "stderr",
     "output_type": "stream",
     "text": [
      "\r",
      " 17%|██████████████████▍                                                                                        | 860/5000 [00:03<00:15, 262.98it/s]"
     ]
    },
    {
     "name": "stderr",
     "output_type": "stream",
     "text": [
      "\r",
      " 18%|██████████████████▉                                                                                        | 887/5000 [00:03<00:15, 259.13it/s]"
     ]
    },
    {
     "name": "stderr",
     "output_type": "stream",
     "text": [
      "\r",
      " 18%|███████████████████▌                                                                                       | 913/5000 [00:03<00:15, 259.06it/s]"
     ]
    },
    {
     "name": "stderr",
     "output_type": "stream",
     "text": [
      "\r",
      " 19%|████████████████████                                                                                       | 939/5000 [00:03<00:15, 258.77it/s]"
     ]
    },
    {
     "name": "stderr",
     "output_type": "stream",
     "text": [
      "\r",
      " 19%|████████████████████▋                                                                                      | 966/5000 [00:03<00:15, 261.50it/s]"
     ]
    },
    {
     "name": "stderr",
     "output_type": "stream",
     "text": [
      "\r",
      " 20%|█████████████████████▎                                                                                     | 993/5000 [00:03<00:15, 261.19it/s]"
     ]
    },
    {
     "name": "stderr",
     "output_type": "stream",
     "text": [
      "\r",
      " 20%|█████████████████████▌                                                                                    | 1020/5000 [00:03<00:15, 260.49it/s]"
     ]
    },
    {
     "name": "stderr",
     "output_type": "stream",
     "text": [
      "\r",
      " 21%|██████████████████████▏                                                                                   | 1047/5000 [00:04<00:15, 261.03it/s]"
     ]
    },
    {
     "name": "stderr",
     "output_type": "stream",
     "text": [
      "\r",
      " 21%|██████████████████████▊                                                                                   | 1074/5000 [00:04<00:14, 262.05it/s]"
     ]
    },
    {
     "name": "stderr",
     "output_type": "stream",
     "text": [
      "\r",
      " 22%|███████████████████████▎                                                                                  | 1101/5000 [00:04<00:14, 260.48it/s]"
     ]
    },
    {
     "name": "stderr",
     "output_type": "stream",
     "text": [
      "\r",
      " 23%|███████████████████████▉                                                                                  | 1128/5000 [00:04<00:14, 262.12it/s]"
     ]
    },
    {
     "name": "stderr",
     "output_type": "stream",
     "text": [
      "\r",
      " 23%|████████████████████████▍                                                                                 | 1155/5000 [00:04<00:14, 262.71it/s]"
     ]
    },
    {
     "name": "stderr",
     "output_type": "stream",
     "text": [
      "\r",
      " 24%|█████████████████████████                                                                                 | 1182/5000 [00:04<00:14, 263.47it/s]"
     ]
    },
    {
     "name": "stderr",
     "output_type": "stream",
     "text": [
      "\r",
      " 24%|█████████████████████████▋                                                                                | 1209/5000 [00:04<00:14, 263.57it/s]"
     ]
    },
    {
     "name": "stderr",
     "output_type": "stream",
     "text": [
      "\r",
      " 25%|██████████████████████████▏                                                                               | 1236/5000 [00:04<00:14, 263.60it/s]"
     ]
    },
    {
     "name": "stderr",
     "output_type": "stream",
     "text": [
      "\r",
      " 25%|██████████████████████████▊                                                                               | 1263/5000 [00:04<00:14, 264.61it/s]"
     ]
    },
    {
     "name": "stderr",
     "output_type": "stream",
     "text": [
      "\r",
      " 26%|███████████████████████████▎                                                                              | 1290/5000 [00:05<00:14, 263.46it/s]"
     ]
    },
    {
     "name": "stderr",
     "output_type": "stream",
     "text": [
      "\r",
      " 26%|███████████████████████████▉                                                                              | 1317/5000 [00:05<00:13, 264.87it/s]"
     ]
    },
    {
     "name": "stderr",
     "output_type": "stream",
     "text": [
      "\r",
      " 27%|████████████████████████████▍                                                                             | 1344/5000 [00:05<00:13, 264.65it/s]"
     ]
    },
    {
     "name": "stderr",
     "output_type": "stream",
     "text": [
      "\r",
      " 27%|█████████████████████████████                                                                             | 1371/5000 [00:05<00:13, 264.12it/s]"
     ]
    },
    {
     "name": "stderr",
     "output_type": "stream",
     "text": [
      "\r",
      " 28%|█████████████████████████████▋                                                                            | 1398/5000 [00:05<00:13, 260.07it/s]"
     ]
    },
    {
     "name": "stderr",
     "output_type": "stream",
     "text": [
      "\r",
      " 28%|██████████████████████████████▏                                                                           | 1425/5000 [00:05<00:13, 258.39it/s]"
     ]
    },
    {
     "name": "stderr",
     "output_type": "stream",
     "text": [
      "\r",
      " 29%|██████████████████████████████▊                                                                           | 1451/5000 [00:05<00:13, 257.85it/s]"
     ]
    },
    {
     "name": "stderr",
     "output_type": "stream",
     "text": [
      "\r",
      " 30%|███████████████████████████████▎                                                                          | 1477/5000 [00:05<00:13, 258.07it/s]"
     ]
    },
    {
     "name": "stderr",
     "output_type": "stream",
     "text": [
      "\r",
      " 30%|███████████████████████████████▊                                                                          | 1503/5000 [00:05<00:13, 258.20it/s]"
     ]
    },
    {
     "name": "stderr",
     "output_type": "stream",
     "text": [
      "\r",
      " 31%|████████████████████████████████▍                                                                         | 1531/5000 [00:05<00:13, 261.91it/s]"
     ]
    },
    {
     "name": "stderr",
     "output_type": "stream",
     "text": [
      "\r",
      " 31%|█████████████████████████████████                                                                         | 1558/5000 [00:06<00:13, 260.57it/s]"
     ]
    },
    {
     "name": "stderr",
     "output_type": "stream",
     "text": [
      "\r",
      " 32%|█████████████████████████████████▌                                                                        | 1585/5000 [00:06<00:13, 260.33it/s]"
     ]
    },
    {
     "name": "stderr",
     "output_type": "stream",
     "text": [
      "\r",
      " 32%|██████████████████████████████████▏                                                                       | 1612/5000 [00:06<00:13, 259.97it/s]"
     ]
    },
    {
     "name": "stderr",
     "output_type": "stream",
     "text": [
      "\r",
      " 33%|██████████████████████████████████▋                                                                       | 1639/5000 [00:06<00:12, 260.38it/s]"
     ]
    },
    {
     "name": "stderr",
     "output_type": "stream",
     "text": [
      "\r",
      " 33%|███████████████████████████████████▎                                                                      | 1666/5000 [00:06<00:12, 261.70it/s]"
     ]
    },
    {
     "name": "stderr",
     "output_type": "stream",
     "text": [
      "\r",
      " 34%|███████████████████████████████████▉                                                                      | 1693/5000 [00:06<00:12, 261.78it/s]"
     ]
    },
    {
     "name": "stderr",
     "output_type": "stream",
     "text": [
      "\r",
      " 34%|████████████████████████████████████▍                                                                     | 1720/5000 [00:06<00:12, 261.22it/s]"
     ]
    },
    {
     "name": "stderr",
     "output_type": "stream",
     "text": [
      "\r",
      " 35%|█████████████████████████████████████                                                                     | 1747/5000 [00:06<00:12, 259.80it/s]"
     ]
    },
    {
     "name": "stderr",
     "output_type": "stream",
     "text": [
      "\r",
      " 35%|█████████████████████████████████████▌                                                                    | 1774/5000 [00:06<00:12, 260.74it/s]"
     ]
    },
    {
     "name": "stderr",
     "output_type": "stream",
     "text": [
      "\r",
      " 36%|██████████████████████████████████████▏                                                                   | 1801/5000 [00:06<00:12, 261.37it/s]"
     ]
    },
    {
     "name": "stderr",
     "output_type": "stream",
     "text": [
      "\r",
      " 37%|██████████████████████████████████████▊                                                                   | 1828/5000 [00:07<00:12, 260.49it/s]"
     ]
    },
    {
     "name": "stderr",
     "output_type": "stream",
     "text": [
      "\r",
      " 37%|███████████████████████████████████████▎                                                                  | 1855/5000 [00:07<00:12, 260.30it/s]"
     ]
    },
    {
     "name": "stderr",
     "output_type": "stream",
     "text": [
      "\r",
      " 38%|███████████████████████████████████████▉                                                                  | 1882/5000 [00:07<00:11, 260.58it/s]"
     ]
    },
    {
     "name": "stderr",
     "output_type": "stream",
     "text": [
      "\r",
      " 38%|████████████████████████████████████████▍                                                                 | 1909/5000 [00:07<00:11, 260.25it/s]"
     ]
    },
    {
     "name": "stderr",
     "output_type": "stream",
     "text": [
      "\r",
      " 39%|█████████████████████████████████████████                                                                 | 1936/5000 [00:07<00:11, 257.95it/s]"
     ]
    },
    {
     "name": "stderr",
     "output_type": "stream",
     "text": [
      "\r",
      " 39%|█████████████████████████████████████████▌                                                                | 1962/5000 [00:07<00:11, 257.55it/s]"
     ]
    },
    {
     "name": "stderr",
     "output_type": "stream",
     "text": [
      "\r",
      " 40%|██████████████████████████████████████████▏                                                               | 1988/5000 [00:07<00:11, 258.16it/s]"
     ]
    },
    {
     "name": "stderr",
     "output_type": "stream",
     "text": [
      "\r",
      " 40%|██████████████████████████████████████████▋                                                               | 2015/5000 [00:07<00:11, 260.06it/s]"
     ]
    },
    {
     "name": "stderr",
     "output_type": "stream",
     "text": [
      "\r",
      " 41%|███████████████████████████████████████████▎                                                              | 2042/5000 [00:07<00:11, 260.81it/s]"
     ]
    },
    {
     "name": "stderr",
     "output_type": "stream",
     "text": [
      "\r",
      " 41%|███████████████████████████████████████████▊                                                              | 2069/5000 [00:08<00:11, 256.46it/s]"
     ]
    },
    {
     "name": "stderr",
     "output_type": "stream",
     "text": [
      "\r",
      " 42%|████████████████████████████████████████████▍                                                             | 2096/5000 [00:08<00:11, 258.39it/s]"
     ]
    },
    {
     "name": "stderr",
     "output_type": "stream",
     "text": [
      "\r",
      " 42%|█████████████████████████████████████████████                                                             | 2123/5000 [00:08<00:11, 258.98it/s]"
     ]
    },
    {
     "name": "stderr",
     "output_type": "stream",
     "text": [
      "\r",
      " 43%|█████████████████████████████████████████████▌                                                            | 2150/5000 [00:08<00:10, 260.49it/s]"
     ]
    },
    {
     "name": "stderr",
     "output_type": "stream",
     "text": [
      "\r",
      " 44%|██████████████████████████████████████████████▏                                                           | 2177/5000 [00:08<00:10, 259.49it/s]"
     ]
    },
    {
     "name": "stderr",
     "output_type": "stream",
     "text": [
      "\r",
      " 44%|██████████████████████████████████████████████▋                                                           | 2203/5000 [00:08<00:10, 258.11it/s]"
     ]
    },
    {
     "name": "stderr",
     "output_type": "stream",
     "text": [
      "\r",
      " 45%|███████████████████████████████████████████████▎                                                          | 2230/5000 [00:08<00:10, 259.04it/s]"
     ]
    },
    {
     "name": "stderr",
     "output_type": "stream",
     "text": [
      "\r",
      " 45%|███████████████████████████████████████████████▊                                                          | 2256/5000 [00:08<00:10, 258.94it/s]"
     ]
    },
    {
     "name": "stderr",
     "output_type": "stream",
     "text": [
      "\r",
      " 46%|████████████████████████████████████████████████▍                                                         | 2284/5000 [00:08<00:10, 262.87it/s]"
     ]
    },
    {
     "name": "stderr",
     "output_type": "stream",
     "text": [
      "\r",
      " 46%|████████████████████████████████████████████████▉                                                         | 2311/5000 [00:08<00:10, 262.78it/s]"
     ]
    },
    {
     "name": "stderr",
     "output_type": "stream",
     "text": [
      "\r",
      " 47%|█████████████████████████████████████████████████▌                                                        | 2338/5000 [00:09<00:10, 263.75it/s]"
     ]
    },
    {
     "name": "stderr",
     "output_type": "stream",
     "text": [
      "\r",
      " 47%|██████████████████████████████████████████████████▏                                                       | 2365/5000 [00:09<00:10, 263.05it/s]"
     ]
    },
    {
     "name": "stderr",
     "output_type": "stream",
     "text": [
      "\r",
      " 48%|██████████████████████████████████████████████████▋                                                       | 2392/5000 [00:09<00:10, 260.11it/s]"
     ]
    },
    {
     "name": "stderr",
     "output_type": "stream",
     "text": [
      "\r",
      " 48%|███████████████████████████████████████████████████▎                                                      | 2419/5000 [00:09<00:09, 258.95it/s]"
     ]
    },
    {
     "name": "stderr",
     "output_type": "stream",
     "text": [
      "\r",
      " 49%|███████████████████████████████████████████████████▊                                                      | 2446/5000 [00:09<00:09, 259.50it/s]"
     ]
    },
    {
     "name": "stderr",
     "output_type": "stream",
     "text": [
      "\r",
      " 49%|████████████████████████████████████████████████████▍                                                     | 2473/5000 [00:09<00:09, 259.89it/s]"
     ]
    },
    {
     "name": "stderr",
     "output_type": "stream",
     "text": [
      "\r",
      " 50%|█████████████████████████████████████████████████████                                                     | 2500/5000 [00:09<00:09, 261.56it/s]"
     ]
    },
    {
     "name": "stderr",
     "output_type": "stream",
     "text": [
      "\r",
      " 51%|█████████████████████████████████████████████████████▌                                                    | 2527/5000 [00:09<00:09, 258.64it/s]"
     ]
    },
    {
     "name": "stderr",
     "output_type": "stream",
     "text": [
      "\r",
      " 51%|██████████████████████████████████████████████████████▏                                                   | 2554/5000 [00:09<00:09, 260.31it/s]"
     ]
    },
    {
     "name": "stderr",
     "output_type": "stream",
     "text": [
      "\r",
      " 52%|██████████████████████████████████████████████████████▋                                                   | 2581/5000 [00:09<00:09, 259.89it/s]"
     ]
    },
    {
     "name": "stderr",
     "output_type": "stream",
     "text": [
      "\r",
      " 52%|███████████████████████████████████████████████████████▎                                                  | 2607/5000 [00:10<00:09, 255.73it/s]"
     ]
    },
    {
     "name": "stderr",
     "output_type": "stream",
     "text": [
      "\r",
      " 53%|███████████████████████████████████████████████████████▊                                                  | 2634/5000 [00:10<00:09, 259.24it/s]"
     ]
    },
    {
     "name": "stderr",
     "output_type": "stream",
     "text": [
      "\r",
      " 53%|████████████████████████████████████████████████████████▍                                                 | 2661/5000 [00:10<00:08, 261.23it/s]"
     ]
    },
    {
     "name": "stderr",
     "output_type": "stream",
     "text": [
      "\r",
      " 54%|████████████████████████████████████████████████████████▉                                                 | 2688/5000 [00:10<00:08, 262.04it/s]"
     ]
    },
    {
     "name": "stderr",
     "output_type": "stream",
     "text": [
      "\r",
      " 54%|█████████████████████████████████████████████████████████▌                                                | 2715/5000 [00:10<00:08, 258.67it/s]"
     ]
    },
    {
     "name": "stderr",
     "output_type": "stream",
     "text": [
      "\r",
      " 55%|██████████████████████████████████████████████████████████                                                | 2741/5000 [00:10<00:08, 257.33it/s]"
     ]
    },
    {
     "name": "stderr",
     "output_type": "stream",
     "text": [
      "\r",
      " 55%|██████████████████████████████████████████████████████████▋                                               | 2767/5000 [00:10<00:08, 255.57it/s]"
     ]
    },
    {
     "name": "stderr",
     "output_type": "stream",
     "text": [
      "\r",
      " 56%|███████████████████████████████████████████████████████████▏                                              | 2793/5000 [00:10<00:08, 254.19it/s]"
     ]
    },
    {
     "name": "stderr",
     "output_type": "stream",
     "text": [
      "\r",
      " 56%|███████████████████████████████████████████████████████████▊                                              | 2820/5000 [00:10<00:08, 256.16it/s]"
     ]
    },
    {
     "name": "stderr",
     "output_type": "stream",
     "text": [
      "\r",
      " 57%|████████████████████████████████████████████████████████████▎                                             | 2847/5000 [00:11<00:08, 258.64it/s]"
     ]
    },
    {
     "name": "stderr",
     "output_type": "stream",
     "text": [
      "\r",
      " 57%|████████████████████████████████████████████████████████████▉                                             | 2874/5000 [00:11<00:08, 259.98it/s]"
     ]
    },
    {
     "name": "stderr",
     "output_type": "stream",
     "text": [
      "\r",
      " 58%|█████████████████████████████████████████████████████████████▌                                            | 2901/5000 [00:11<00:08, 260.16it/s]"
     ]
    },
    {
     "name": "stderr",
     "output_type": "stream",
     "text": [
      "\r",
      " 59%|██████████████████████████████████████████████████████████████                                            | 2928/5000 [00:11<00:07, 261.00it/s]"
     ]
    },
    {
     "name": "stderr",
     "output_type": "stream",
     "text": [
      "\r",
      " 59%|██████████████████████████████████████████████████████████████▋                                           | 2955/5000 [00:11<00:07, 260.59it/s]"
     ]
    },
    {
     "name": "stderr",
     "output_type": "stream",
     "text": [
      "\r",
      " 60%|███████████████████████████████████████████████████████████████▏                                          | 2982/5000 [00:11<00:07, 260.05it/s]"
     ]
    },
    {
     "name": "stderr",
     "output_type": "stream",
     "text": [
      "\r",
      " 60%|███████████████████████████████████████████████████████████████▊                                          | 3009/5000 [00:11<00:07, 258.38it/s]"
     ]
    },
    {
     "name": "stderr",
     "output_type": "stream",
     "text": [
      "\r",
      " 61%|████████████████████████████████████████████████████████████████▎                                         | 3035/5000 [00:11<00:07, 258.59it/s]"
     ]
    },
    {
     "name": "stderr",
     "output_type": "stream",
     "text": [
      "\r",
      " 61%|████████████████████████████████████████████████████████████████▉                                         | 3062/5000 [00:11<00:07, 260.99it/s]"
     ]
    },
    {
     "name": "stderr",
     "output_type": "stream",
     "text": [
      "\r",
      " 62%|█████████████████████████████████████████████████████████████████▍                                        | 3089/5000 [00:11<00:07, 262.95it/s]"
     ]
    },
    {
     "name": "stderr",
     "output_type": "stream",
     "text": [
      "\r",
      " 62%|██████████████████████████████████████████████████████████████████                                        | 3116/5000 [00:12<00:07, 262.36it/s]"
     ]
    },
    {
     "name": "stderr",
     "output_type": "stream",
     "text": [
      "\r",
      " 63%|██████████████████████████████████████████████████████████████████▋                                       | 3143/5000 [00:12<00:07, 262.12it/s]"
     ]
    },
    {
     "name": "stderr",
     "output_type": "stream",
     "text": [
      "\r",
      " 63%|███████████████████████████████████████████████████████████████████▏                                      | 3170/5000 [00:12<00:06, 262.71it/s]"
     ]
    },
    {
     "name": "stderr",
     "output_type": "stream",
     "text": [
      "\r",
      " 64%|███████████████████████████████████████████████████████████████████▊                                      | 3198/5000 [00:12<00:06, 264.97it/s]"
     ]
    },
    {
     "name": "stderr",
     "output_type": "stream",
     "text": [
      "\r",
      " 64%|████████████████████████████████████████████████████████████████████▎                                     | 3225/5000 [00:12<00:06, 261.92it/s]"
     ]
    },
    {
     "name": "stderr",
     "output_type": "stream",
     "text": [
      "\r",
      " 65%|████████████████████████████████████████████████████████████████████▉                                     | 3252/5000 [00:12<00:06, 260.00it/s]"
     ]
    },
    {
     "name": "stderr",
     "output_type": "stream",
     "text": [
      "\r",
      " 66%|█████████████████████████████████████████████████████████████████████▌                                    | 3279/5000 [00:12<00:06, 259.09it/s]"
     ]
    },
    {
     "name": "stderr",
     "output_type": "stream",
     "text": [
      "\r",
      " 66%|██████████████████████████████████████████████████████████████████████                                    | 3305/5000 [00:12<00:06, 259.15it/s]"
     ]
    },
    {
     "name": "stderr",
     "output_type": "stream",
     "text": [
      "\r",
      " 67%|██████████████████████████████████████████████████████████████████████▋                                   | 3332/5000 [00:12<00:06, 260.64it/s]"
     ]
    },
    {
     "name": "stderr",
     "output_type": "stream",
     "text": [
      "\r",
      " 67%|███████████████████████████████████████████████████████████████████████▏                                  | 3359/5000 [00:12<00:06, 262.92it/s]"
     ]
    },
    {
     "name": "stderr",
     "output_type": "stream",
     "text": [
      "\r",
      " 68%|███████████████████████████████████████████████████████████████████████▊                                  | 3386/5000 [00:13<00:06, 263.87it/s]"
     ]
    },
    {
     "name": "stderr",
     "output_type": "stream",
     "text": [
      "\r",
      " 68%|████████████████████████████████████████████████████████████████████████▎                                 | 3413/5000 [00:13<00:06, 264.05it/s]"
     ]
    },
    {
     "name": "stderr",
     "output_type": "stream",
     "text": [
      "\r",
      " 69%|████████████████████████████████████████████████████████████████████████▉                                 | 3440/5000 [00:13<00:05, 265.26it/s]"
     ]
    },
    {
     "name": "stderr",
     "output_type": "stream",
     "text": [
      "\r",
      " 69%|█████████████████████████████████████████████████████████████████████████▌                                | 3467/5000 [00:13<00:05, 264.68it/s]"
     ]
    },
    {
     "name": "stderr",
     "output_type": "stream",
     "text": [
      "\r",
      " 70%|██████████████████████████████████████████████████████████████████████████                                | 3494/5000 [00:13<00:05, 263.69it/s]"
     ]
    },
    {
     "name": "stderr",
     "output_type": "stream",
     "text": [
      "\r",
      " 70%|██████████████████████████████████████████████████████████████████████████▋                               | 3521/5000 [00:13<00:05, 263.16it/s]"
     ]
    },
    {
     "name": "stderr",
     "output_type": "stream",
     "text": [
      "\r",
      " 71%|███████████████████████████████████████████████████████████████████████████▏                              | 3548/5000 [00:13<00:05, 262.68it/s]"
     ]
    },
    {
     "name": "stderr",
     "output_type": "stream",
     "text": [
      "\r",
      " 72%|███████████████████████████████████████████████████████████████████████████▊                              | 3575/5000 [00:13<00:05, 262.36it/s]"
     ]
    },
    {
     "name": "stderr",
     "output_type": "stream",
     "text": [
      "\r",
      " 72%|████████████████████████████████████████████████████████████████████████████▎                             | 3602/5000 [00:13<00:05, 258.66it/s]"
     ]
    },
    {
     "name": "stderr",
     "output_type": "stream",
     "text": [
      "\r",
      " 73%|████████████████████████████████████████████████████████████████████████████▉                             | 3628/5000 [00:14<00:05, 257.61it/s]"
     ]
    },
    {
     "name": "stderr",
     "output_type": "stream",
     "text": [
      "\r",
      " 73%|█████████████████████████████████████████████████████████████████████████████▍                            | 3655/5000 [00:14<00:05, 258.30it/s]"
     ]
    },
    {
     "name": "stderr",
     "output_type": "stream",
     "text": [
      "\r",
      " 74%|██████████████████████████████████████████████████████████████████████████████                            | 3682/5000 [00:14<00:05, 260.15it/s]"
     ]
    },
    {
     "name": "stderr",
     "output_type": "stream",
     "text": [
      "\r",
      " 74%|██████████████████████████████████████████████████████████████████████████████▋                           | 3709/5000 [00:14<00:04, 260.80it/s]"
     ]
    },
    {
     "name": "stderr",
     "output_type": "stream",
     "text": [
      "\r",
      " 75%|███████████████████████████████████████████████████████████████████████████████▏                          | 3736/5000 [00:14<00:04, 260.48it/s]"
     ]
    },
    {
     "name": "stderr",
     "output_type": "stream",
     "text": [
      "\r",
      " 75%|███████████████████████████████████████████████████████████████████████████████▊                          | 3763/5000 [00:14<00:04, 257.02it/s]"
     ]
    },
    {
     "name": "stderr",
     "output_type": "stream",
     "text": [
      "\r",
      " 76%|████████████████████████████████████████████████████████████████████████████████▎                         | 3790/5000 [00:14<00:04, 259.56it/s]"
     ]
    },
    {
     "name": "stderr",
     "output_type": "stream",
     "text": [
      "\r",
      " 76%|████████████████████████████████████████████████████████████████████████████████▉                         | 3817/5000 [00:14<00:04, 260.67it/s]"
     ]
    },
    {
     "name": "stderr",
     "output_type": "stream",
     "text": [
      "\r",
      " 77%|█████████████████████████████████████████████████████████████████████████████████▍                        | 3844/5000 [00:14<00:04, 259.42it/s]"
     ]
    },
    {
     "name": "stderr",
     "output_type": "stream",
     "text": [
      "\r",
      " 77%|██████████████████████████████████████████████████████████████████████████████████                        | 3870/5000 [00:14<00:04, 258.74it/s]"
     ]
    },
    {
     "name": "stderr",
     "output_type": "stream",
     "text": [
      "\r",
      " 78%|██████████████████████████████████████████████████████████████████████████████████▌                       | 3896/5000 [00:15<00:04, 258.99it/s]"
     ]
    },
    {
     "name": "stderr",
     "output_type": "stream",
     "text": [
      "\r",
      " 78%|███████████████████████████████████████████████████████████████████████████████████▏                      | 3923/5000 [00:15<00:04, 261.34it/s]"
     ]
    },
    {
     "name": "stderr",
     "output_type": "stream",
     "text": [
      "\r",
      " 79%|███████████████████████████████████████████████████████████████████████████████████▋                      | 3950/5000 [00:15<00:04, 261.34it/s]"
     ]
    },
    {
     "name": "stderr",
     "output_type": "stream",
     "text": [
      "\r",
      " 80%|████████████████████████████████████████████████████████████████████████████████████▎                     | 3977/5000 [00:15<00:03, 257.92it/s]"
     ]
    },
    {
     "name": "stderr",
     "output_type": "stream",
     "text": [
      "\r",
      " 80%|████████████████████████████████████████████████████████████████████████████████████▊                     | 4003/5000 [00:15<00:03, 257.62it/s]"
     ]
    },
    {
     "name": "stderr",
     "output_type": "stream",
     "text": [
      "\r",
      " 81%|█████████████████████████████████████████████████████████████████████████████████████▍                    | 4030/5000 [00:15<00:03, 260.15it/s]"
     ]
    },
    {
     "name": "stderr",
     "output_type": "stream",
     "text": [
      "\r",
      " 81%|██████████████████████████████████████████████████████████████████████████████████████                    | 4057/5000 [00:15<00:03, 261.58it/s]"
     ]
    },
    {
     "name": "stderr",
     "output_type": "stream",
     "text": [
      "\r",
      " 82%|██████████████████████████████████████████████████████████████████████████████████████▌                   | 4084/5000 [00:15<00:03, 262.30it/s]"
     ]
    },
    {
     "name": "stderr",
     "output_type": "stream",
     "text": [
      "\r",
      " 82%|███████████████████████████████████████████████████████████████████████████████████████▏                  | 4111/5000 [00:15<00:03, 262.39it/s]"
     ]
    },
    {
     "name": "stderr",
     "output_type": "stream",
     "text": [
      "\r",
      " 83%|███████████████████████████████████████████████████████████████████████████████████████▋                  | 4138/5000 [00:15<00:03, 261.52it/s]"
     ]
    },
    {
     "name": "stderr",
     "output_type": "stream",
     "text": [
      "\r",
      " 83%|████████████████████████████████████████████████████████████████████████████████████████▎                 | 4165/5000 [00:16<00:03, 261.20it/s]"
     ]
    },
    {
     "name": "stderr",
     "output_type": "stream",
     "text": [
      "\r",
      " 84%|████████████████████████████████████████████████████████████████████████████████████████▊                 | 4192/5000 [00:16<00:03, 260.06it/s]"
     ]
    },
    {
     "name": "stderr",
     "output_type": "stream",
     "text": [
      "\r",
      " 84%|█████████████████████████████████████████████████████████████████████████████████████████▍                | 4219/5000 [00:16<00:02, 262.29it/s]"
     ]
    },
    {
     "name": "stderr",
     "output_type": "stream",
     "text": [
      "\r",
      " 85%|██████████████████████████████████████████████████████████████████████████████████████████                | 4246/5000 [00:16<00:02, 262.64it/s]"
     ]
    },
    {
     "name": "stderr",
     "output_type": "stream",
     "text": [
      "\r",
      " 85%|██████████████████████████████████████████████████████████████████████████████████████████▌               | 4273/5000 [00:16<00:02, 260.82it/s]"
     ]
    },
    {
     "name": "stderr",
     "output_type": "stream",
     "text": [
      "\r",
      " 86%|███████████████████████████████████████████████████████████████████████████████████████████▏              | 4300/5000 [00:16<00:02, 258.94it/s]"
     ]
    },
    {
     "name": "stderr",
     "output_type": "stream",
     "text": [
      "\r",
      " 87%|███████████████████████████████████████████████████████████████████████████████████████████▋              | 4326/5000 [00:16<00:02, 257.19it/s]"
     ]
    },
    {
     "name": "stderr",
     "output_type": "stream",
     "text": [
      "\r",
      " 87%|████████████████████████████████████████████████████████████████████████████████████████████▎             | 4353/5000 [00:16<00:02, 259.72it/s]"
     ]
    },
    {
     "name": "stderr",
     "output_type": "stream",
     "text": [
      "\r",
      " 88%|████████████████████████████████████████████████████████████████████████████████████████████▊             | 4380/5000 [00:16<00:02, 260.73it/s]"
     ]
    },
    {
     "name": "stderr",
     "output_type": "stream",
     "text": [
      "\r",
      " 88%|█████████████████████████████████████████████████████████████████████████████████████████████▍            | 4407/5000 [00:16<00:02, 260.84it/s]"
     ]
    },
    {
     "name": "stderr",
     "output_type": "stream",
     "text": [
      "\r",
      " 89%|██████████████████████████████████████████████████████████████████████████████████████████████            | 4434/5000 [00:17<00:02, 261.71it/s]"
     ]
    },
    {
     "name": "stderr",
     "output_type": "stream",
     "text": [
      "\r",
      " 89%|██████████████████████████████████████████████████████████████████████████████████████████████▌           | 4461/5000 [00:17<00:02, 262.99it/s]"
     ]
    },
    {
     "name": "stderr",
     "output_type": "stream",
     "text": [
      "\r",
      " 90%|███████████████████████████████████████████████████████████████████████████████████████████████▏          | 4488/5000 [00:17<00:01, 262.56it/s]"
     ]
    },
    {
     "name": "stderr",
     "output_type": "stream",
     "text": [
      "\r",
      " 90%|███████████████████████████████████████████████████████████████████████████████████████████████▋          | 4515/5000 [00:17<00:01, 263.15it/s]"
     ]
    },
    {
     "name": "stderr",
     "output_type": "stream",
     "text": [
      "\r",
      " 91%|████████████████████████████████████████████████████████████████████████████████████████████████▎         | 4542/5000 [00:17<00:01, 264.10it/s]"
     ]
    },
    {
     "name": "stderr",
     "output_type": "stream",
     "text": [
      "\r",
      " 91%|████████████████████████████████████████████████████████████████████████████████████████████████▊         | 4569/5000 [00:17<00:01, 264.27it/s]"
     ]
    },
    {
     "name": "stderr",
     "output_type": "stream",
     "text": [
      "\r",
      " 92%|█████████████████████████████████████████████████████████████████████████████████████████████████▍        | 4596/5000 [00:17<00:01, 263.31it/s]"
     ]
    },
    {
     "name": "stderr",
     "output_type": "stream",
     "text": [
      "\r",
      " 92%|██████████████████████████████████████████████████████████████████████████████████████████████████        | 4623/5000 [00:17<00:01, 263.22it/s]"
     ]
    },
    {
     "name": "stderr",
     "output_type": "stream",
     "text": [
      "\r",
      " 93%|██████████████████████████████████████████████████████████████████████████████████████████████████▌       | 4650/5000 [00:17<00:01, 261.62it/s]"
     ]
    },
    {
     "name": "stderr",
     "output_type": "stream",
     "text": [
      "\r",
      " 94%|███████████████████████████████████████████████████████████████████████████████████████████████████▏      | 4677/5000 [00:18<00:01, 257.99it/s]"
     ]
    },
    {
     "name": "stderr",
     "output_type": "stream",
     "text": [
      "\r",
      " 94%|███████████████████████████████████████████████████████████████████████████████████████████████████▋      | 4703/5000 [00:18<00:01, 256.14it/s]"
     ]
    },
    {
     "name": "stderr",
     "output_type": "stream",
     "text": [
      "\r",
      " 95%|████████████████████████████████████████████████████████████████████████████████████████████████████▎     | 4730/5000 [00:18<00:01, 257.75it/s]"
     ]
    },
    {
     "name": "stderr",
     "output_type": "stream",
     "text": [
      "\r",
      " 95%|████████████████████████████████████████████████████████████████████████████████████████████████████▊     | 4757/5000 [00:18<00:00, 258.98it/s]"
     ]
    },
    {
     "name": "stderr",
     "output_type": "stream",
     "text": [
      "\r",
      " 96%|█████████████████████████████████████████████████████████████████████████████████████████████████████▍    | 4783/5000 [00:18<00:00, 258.87it/s]"
     ]
    },
    {
     "name": "stderr",
     "output_type": "stream",
     "text": [
      "\r",
      " 96%|█████████████████████████████████████████████████████████████████████████████████████████████████████▉    | 4810/5000 [00:18<00:00, 260.08it/s]"
     ]
    },
    {
     "name": "stderr",
     "output_type": "stream",
     "text": [
      "\r",
      " 97%|██████████████████████████████████████████████████████████████████████████████████████████████████████▌   | 4837/5000 [00:18<00:00, 261.33it/s]"
     ]
    },
    {
     "name": "stderr",
     "output_type": "stream",
     "text": [
      "\r",
      " 97%|███████████████████████████████████████████████████████████████████████████████████████████████████████   | 4864/5000 [00:18<00:00, 259.98it/s]"
     ]
    },
    {
     "name": "stderr",
     "output_type": "stream",
     "text": [
      "\r",
      " 98%|███████████████████████████████████████████████████████████████████████████████████████████████████████▋  | 4891/5000 [00:18<00:00, 261.34it/s]"
     ]
    },
    {
     "name": "stderr",
     "output_type": "stream",
     "text": [
      "\r",
      " 98%|████████████████████████████████████████████████████████████████████████████████████████████████████████▎ | 4918/5000 [00:18<00:00, 262.88it/s]"
     ]
    },
    {
     "name": "stderr",
     "output_type": "stream",
     "text": [
      "\r",
      " 99%|████████████████████████████████████████████████████████████████████████████████████████████████████████▊ | 4945/5000 [00:19<00:00, 263.30it/s]"
     ]
    },
    {
     "name": "stderr",
     "output_type": "stream",
     "text": [
      "\r",
      " 99%|█████████████████████████████████████████████████████████████████████████████████████████████████████████▍| 4972/5000 [00:19<00:00, 261.35it/s]"
     ]
    },
    {
     "name": "stderr",
     "output_type": "stream",
     "text": [
      "\r",
      "100%|█████████████████████████████████████████████████████████████████████████████████████████████████████████▉| 4999/5000 [00:19<00:00, 260.30it/s]"
     ]
    },
    {
     "name": "stderr",
     "output_type": "stream",
     "text": [
      "\r",
      "100%|██████████████████████████████████████████████████████████████████████████████████████████████████████████| 5000/5000 [00:19<00:00, 259.49it/s]"
     ]
    },
    {
     "name": "stderr",
     "output_type": "stream",
     "text": [
      "\n"
     ]
    },
    {
     "data": {
      "image/png": "[encoded data removed]",
      "text/plain": [
       "<Figure size 432x432 with 2 Axes>"
      ]
     },
     "metadata": {
      "filenames": {
       "image/png": "/Users/youngsam/Documents/GitHub/grbLC/docs_src/_build/jupyter_execute/grblc.fitting_1_190.png"
      },
      "needs_background": "light"
     },
     "output_type": "display_data"
    },
    {
     "data": {
      "image/png": "[encoded data removed]",
      "text/plain": [
       "<Figure size 698.4x698.4 with 16 Axes>"
      ]
     },
     "metadata": {
      "filenames": {
       "image/png": "/Users/youngsam/Documents/GitHub/grbLC/docs_src/_build/jupyter_execute/grblc.fitting_1_191.png"
      },
      "needs_background": "light"
     },
     "output_type": "display_data"
    },
    {
     "data": {
      "image/png": "[encoded data removed]",
      "text/plain": [
       "<Figure size 1440x360 with 4 Axes>"
      ]
     },
     "metadata": {
      "filenames": {
       "image/png": "/Users/youngsam/Documents/GitHub/grbLC/docs_src/_build/jupyter_execute/grblc.fitting_1_192.png"
      },
      "needs_background": "light"
     },
     "output_type": "display_data"
    },
    {
     "name": "stdout",
     "output_type": "stream",
     "text": [
      "[[Fit Statistics]]\n",
      "    # fitting method   = emcee\n",
      "    # function evals   = 500000\n",
      "    # data points      = 15\n",
      "    # variables        = 4\n",
      "    chi-square         = 13.2666821\n",
      "    reduced chi-square = 1.20606201\n",
      "    Akaike info crit   = 6.15808380\n",
      "    Bayesian info crit = 8.99028461\n",
      "[[Variables]]\n",
      "    T:      4.93163262 +/- 0.12232580 (2.48%) (init = 4.936441)\n",
      "    F:     -11.8315478 +/- 0.09882103 (0.84%) (init = -11.82847)\n",
      "    alpha:  1.52121266 +/- 0.03778952 (2.48%) (init = 1.524132)\n",
      "    t:      0.35327607 +/- 1.97458593 (558.94%) (init = 0.3657104)\n"
     ]
    }
   ],
   "source": [
    "import numpy as np\n",
    "from grblc.fitting import Model, Lightcurve\n",
    "\n",
    "model = Model.W07()\n",
    "xdata = np.linspace(0, 10, 15)\n",
    "yerr = np.random.normal(0, 0.5, len(xdata))\n",
    "ydata = model(xdata, 5, -12, 1.5, 0) + yerr\n",
    "lc = Lightcurve(xdata=xdata, ydata=ydata, yerr=yerr, model=model)\n",
    "lc.fit(p0=[4.5, -12.5, 1, 0])\n",
    "lc.show_fit(detailed=True)"
   ]
  },
  {
   "cell_type": "code",
   "execution_count": 3,
   "id": "f32c68c6",
   "metadata": {
    "execution": {
     "iopub.execute_input": "2022-07-13T18:04:53.794186Z",
     "iopub.status.busy": "2022-07-13T18:04:53.794092Z",
     "iopub.status.idle": "2022-07-13T18:04:53.883601Z",
     "shell.execute_reply": "2022-07-13T18:04:53.883305Z"
    }
   },
   "outputs": [
    {
     "data": {
      "image/png": "[encoded data removed]",
      "text/plain": [
       "<Figure size 432x288 with 1 Axes>"
      ]
     },
     "metadata": {
      "filenames": {
       "image/png": "/Users/youngsam/Documents/GitHub/grbLC/docs_src/_build/jupyter_execute/grblc.fitting_2_0.png"
      },
      "needs_background": "light"
     },
     "output_type": "display_data"
    }
   ],
   "source": [
    "import matplotlib.pyplot as plt\n",
    "import numpy as np\n",
    "from grblc.fitting import Model\n",
    "\n",
    "sbpl = Model.SIMPLE_BPL()\n",
    "x = np.linspace(2, 8, 100)\n",
    "T, F, alpha1, alpha2 = p = 5, -12, -0.1, 1.5\n",
    "y = sbpl(x, *p)\n",
    "plt.plot(x, y)\n",
    "plt.title(sbpl.name)\n",
    "plt.xlabel(\"log Time (s)\")\n",
    "plt.ylabel(\"log Flux (erg cm$^{-2}$ s$^{-1}$)\")\n",
    "plt.show()"
   ]
  },
  {
   "cell_type": "code",
   "execution_count": 4,
   "id": "e1d0e2a6",
   "metadata": {
    "execution": {
     "iopub.execute_input": "2022-07-13T18:04:53.885208Z",
     "iopub.status.busy": "2022-07-13T18:04:53.885086Z",
     "iopub.status.idle": "2022-07-13T18:04:53.928744Z",
     "shell.execute_reply": "2022-07-13T18:04:53.928457Z"
    }
   },
   "outputs": [
    {
     "data": {
      "image/png": "[encoded data removed]",
      "text/plain": [
       "<Figure size 432x288 with 1 Axes>"
      ]
     },
     "metadata": {
      "filenames": {
       "image/png": "/Users/youngsam/Documents/GitHub/grbLC/docs_src/_build/jupyter_execute/grblc.fitting_3_0.png"
      },
      "needs_background": "light"
     },
     "output_type": "display_data"
    }
   ],
   "source": [
    "import matplotlib.pyplot as plt\n",
    "import numpy as np\n",
    "from grblc.fitting import Model\n",
    "%matplotlib inline\n",
    "\n",
    "sbpl = Model.SMOOTH_BPL()\n",
    "x = np.linspace(2, 8, 100)\n",
    "T, F, alpha1, alpha2, S = p = 5, -12, -0.1, 1.5, 0.5\n",
    "y = sbpl(x, *p)\n",
    "plt.plot(x, y)\n",
    "plt.title(sbpl.name)\n",
    "plt.xlabel(\"log Time (s)\")\n",
    "plt.ylabel(\"log Flux (erg cm\\(^{-2}\\) s\\(^{-1}\\))\")\n",
    "plt.show()"
   ]
  },
  {
   "cell_type": "code",
   "execution_count": 5,
   "id": "bd7ae3c9",
   "metadata": {
    "execution": {
     "iopub.execute_input": "2022-07-13T18:04:53.930301Z",
     "iopub.status.busy": "2022-07-13T18:04:53.930182Z",
     "iopub.status.idle": "2022-07-13T18:04:53.980949Z",
     "shell.execute_reply": "2022-07-13T18:04:53.980595Z"
    }
   },
   "outputs": [
    {
     "data": {
      "image/png": "[encoded data removed]",
      "text/plain": [
       "<Figure size 432x288 with 1 Axes>"
      ]
     },
     "metadata": {
      "filenames": {
       "image/png": "/Users/youngsam/Documents/GitHub/grbLC/docs_src/_build/jupyter_execute/grblc.fitting_4_0.png"
      },
      "needs_background": "light"
     },
     "output_type": "display_data"
    }
   ],
   "source": [
    "import matplotlib.pyplot as plt\n",
    "import numpy as np\n",
    "from grblc.fitting import Model\n",
    "%matplotlib inline\n",
    "\n",
    "w07 = Model.W07()\n",
    "x = np.linspace(2, 8, 100)\n",
    "T, F, alpha, t = 5, -12, 1.5, 1\n",
    "y = w07(x, T, F, alpha, t)\n",
    "plt.plot(x, y)\n",
    "plt.title(w07.name)\n",
    "plt.xlabel(\"log Time (s)\")\n",
    "plt.ylabel(\"log Flux (erg cm$^{-2}$ s$^{-1}$)\")\n",
    "plt.show()"
   ]
  }
 ],
 "metadata": {
  "kernelspec": {
   "display_name": "Python 3 (ipykernel)",
   "language": "python",
   "name": "python3"
  },
  "language_info": {
   "codemirror_mode": {
    "name": "ipython",
    "version": 3
   },
   "file_extension": ".py",
   "mimetype": "text/x-python",
   "name": "python",
   "nbconvert_exporter": "python",
   "pygments_lexer": "ipython3",
   "version": "3.8.13"
  }
 },
 "nbformat": 4,
 "nbformat_minor": 5
}